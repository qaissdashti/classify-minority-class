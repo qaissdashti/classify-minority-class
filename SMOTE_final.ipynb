{
 "cells": [
  {
   "cell_type": "markdown",
   "metadata": {},
   "source": [
    "## SMOTE-Sampling -  #700055807"
   ]
  },
  {
   "cell_type": "code",
   "execution_count": 1,
   "metadata": {},
   "outputs": [],
   "source": [
    "#importing all modules\n",
    "import pandas as pd\n",
    "import numpy as np\n",
    "import seaborn as sns\n",
    "import matplotlib.pyplot as plt\n",
    "\n",
    "import numpy as np\n",
    "from sklearn.ensemble import RandomForestClassifier\n",
    "from sklearn.metrics import classification_report, precision_score,fbeta_score, accuracy_score, confusion_matrix, roc_curve, roc_auc_score\n",
    "from sklearn.model_selection import cross_validate, GridSearchCV\n",
    "from sklearn.tree import DecisionTreeClassifier\n",
    "from sklearn.model_selection import train_test_split, KFold\n",
    "from sklearn.ensemble import AdaBoostClassifier\n",
    "from sklearn.preprocessing import LabelEncoder\n",
    "from sklearn.linear_model import LogisticRegression"
   ]
  },
  {
   "cell_type": "code",
   "execution_count": 2,
   "metadata": {},
   "outputs": [],
   "source": [
    "#importing white wine data set (UCI https://archive.ics.uci.edu/ml/datasets/wine+quality)\n",
    "\n",
    "wine_df = pd.read_csv('data/winequality-white.csv', sep=';')\n",
    "\n",
    "data = wine_df.copy()"
   ]
  },
  {
   "cell_type": "code",
   "execution_count": 3,
   "metadata": {},
   "outputs": [],
   "source": [
    "#Creating the catigorical target, less than 8 as 0 and more than 8 as 1\n",
    "\n",
    "data['type'] = np.where(data['quality'] < 8, 'bad', 'good')"
   ]
  },
  {
   "cell_type": "code",
   "execution_count": 4,
   "metadata": {},
   "outputs": [],
   "source": [
    "# using the enconder to code 0,1 for bad and good respectvily \n",
    "\n",
    "le = LabelEncoder()\n",
    "data['target'] = le.fit_transform(data['type'])"
   ]
  },
  {
   "cell_type": "code",
   "execution_count": 13,
   "metadata": {},
   "outputs": [
    {
     "data": {
      "text/plain": [
       "0    96.325031\n",
       "1     3.674969\n",
       "Name: target, dtype: float64"
      ]
     },
     "execution_count": 13,
     "metadata": {},
     "output_type": "execute_result"
    }
   ],
   "source": [
    "data['target'].value_counts(normalize=True) * 100"
   ]
  },
  {
   "cell_type": "code",
   "execution_count": 11,
   "metadata": {},
   "outputs": [
    {
     "name": "stdout",
     "output_type": "stream",
     "text": [
      "Collecting imblearn\n",
      "  Downloading imblearn-0.0-py2.py3-none-any.whl (1.9 kB)\n",
      "Collecting imbalanced-learn\n",
      "  Downloading imbalanced_learn-0.7.0-py3-none-any.whl (167 kB)\n",
      "\u001b[K     |████████████████████████████████| 167 kB 370 kB/s eta 0:00:01\n",
      "\u001b[?25hRequirement already satisfied: scipy>=0.19.1 in /Users/mac/opt/anaconda3/lib/python3.8/site-packages (from imbalanced-learn->imblearn) (1.5.0)\n",
      "Requirement already satisfied: scikit-learn>=0.23 in /Users/mac/opt/anaconda3/lib/python3.8/site-packages (from imbalanced-learn->imblearn) (0.23.2)\n",
      "Requirement already satisfied: joblib>=0.11 in /Users/mac/opt/anaconda3/lib/python3.8/site-packages (from imbalanced-learn->imblearn) (0.16.0)\n",
      "Requirement already satisfied: numpy>=1.13.3 in /Users/mac/opt/anaconda3/lib/python3.8/site-packages (from imbalanced-learn->imblearn) (1.18.5)\n",
      "Requirement already satisfied: threadpoolctl>=2.0.0 in /Users/mac/opt/anaconda3/lib/python3.8/site-packages (from scikit-learn>=0.23->imbalanced-learn->imblearn) (2.1.0)\n",
      "Installing collected packages: imbalanced-learn, imblearn\n",
      "Successfully installed imbalanced-learn-0.7.0 imblearn-0.0\n"
     ]
    }
   ],
   "source": [
    "#installing imblearn for sampling methods\n",
    "!pip install imblearn"
   ]
  },
  {
   "cell_type": "markdown",
   "metadata": {},
   "source": [
    "## Splitting train data for SMOTE"
   ]
  },
  {
   "cell_type": "code",
   "execution_count": 6,
   "metadata": {},
   "outputs": [],
   "source": [
    "#SMOTE sampling \n",
    "from imblearn.over_sampling import SMOTE\n",
    "\n",
    "# Separate input features and target\n",
    "y = data.iloc[:,-1]\n",
    "X = data.iloc[:,:-3]\n",
    "\n",
    "# setting up testing and training sets\n",
    "X_train, X_test, y_train, y_test = train_test_split(X, y, test_size=0.25, random_state=27)\n",
    "\n",
    "sm = SMOTE(random_state=27)\n",
    "X_train, y_train = sm.fit_sample(X_train, y_train)"
   ]
  },
  {
   "cell_type": "code",
   "execution_count": null,
   "metadata": {},
   "outputs": [],
   "source": []
  },
  {
   "cell_type": "code",
   "execution_count": null,
   "metadata": {},
   "outputs": [],
   "source": []
  },
  {
   "cell_type": "code",
   "execution_count": 9,
   "metadata": {},
   "outputs": [
    {
     "name": "stderr",
     "output_type": "stream",
     "text": [
      "/Users/mac/opt/anaconda3/lib/python3.8/site-packages/sklearn/linear_model/_logistic.py:762: ConvergenceWarning: lbfgs failed to converge (status=1):\n",
      "STOP: TOTAL NO. of ITERATIONS REACHED LIMIT.\n",
      "\n",
      "Increase the number of iterations (max_iter) or scale the data as shown in:\n",
      "    https://scikit-learn.org/stable/modules/preprocessing.html\n",
      "Please also refer to the documentation for alternative solver options:\n",
      "    https://scikit-learn.org/stable/modules/linear_model.html#logistic-regression\n",
      "  n_iter_i = _check_optimize_result(\n"
     ]
    },
    {
     "data": {
      "text/html": [
       "<div>\n",
       "<style scoped>\n",
       "    .dataframe tbody tr th:only-of-type {\n",
       "        vertical-align: middle;\n",
       "    }\n",
       "\n",
       "    .dataframe tbody tr th {\n",
       "        vertical-align: top;\n",
       "    }\n",
       "\n",
       "    .dataframe thead th {\n",
       "        text-align: right;\n",
       "    }\n",
       "</style>\n",
       "<table border=\"1\" class=\"dataframe\">\n",
       "  <thead>\n",
       "    <tr style=\"text-align: right;\">\n",
       "      <th></th>\n",
       "      <th>Model</th>\n",
       "      <th>Roc Auc Score</th>\n",
       "      <th>Accuracy Score</th>\n",
       "      <th>Precision Score</th>\n",
       "      <th>F_beta Score</th>\n",
       "    </tr>\n",
       "  </thead>\n",
       "  <tbody>\n",
       "    <tr>\n",
       "      <th>DecisionTreeClassifier</th>\n",
       "      <td>DecisionTreeClassifier()</td>\n",
       "      <td>0.73</td>\n",
       "      <td>0.90</td>\n",
       "      <td>0.22</td>\n",
       "      <td>0.25</td>\n",
       "    </tr>\n",
       "    <tr>\n",
       "      <th>LogisticRegression</th>\n",
       "      <td>LogisticRegression()</td>\n",
       "      <td>0.75</td>\n",
       "      <td>0.71</td>\n",
       "      <td>0.09</td>\n",
       "      <td>0.10</td>\n",
       "    </tr>\n",
       "    <tr>\n",
       "      <th>RandomForestClassifier</th>\n",
       "      <td>(DecisionTreeClassifier(max_features='auto', r...</td>\n",
       "      <td>0.89</td>\n",
       "      <td>0.95</td>\n",
       "      <td>0.37</td>\n",
       "      <td>0.38</td>\n",
       "    </tr>\n",
       "  </tbody>\n",
       "</table>\n",
       "</div>"
      ],
      "text/plain": [
       "                                                                    Model  \\\n",
       "DecisionTreeClassifier                           DecisionTreeClassifier()   \n",
       "LogisticRegression                                   LogisticRegression()   \n",
       "RandomForestClassifier  (DecisionTreeClassifier(max_features='auto', r...   \n",
       "\n",
       "                        Roc Auc Score  Accuracy Score  Precision Score  \\\n",
       "DecisionTreeClassifier           0.73            0.90             0.22   \n",
       "LogisticRegression               0.75            0.71             0.09   \n",
       "RandomForestClassifier           0.89            0.95             0.37   \n",
       "\n",
       "                        F_beta Score  \n",
       "DecisionTreeClassifier          0.25  \n",
       "LogisticRegression              0.10  \n",
       "RandomForestClassifier          0.38  "
      ]
     },
     "execution_count": 9,
     "metadata": {},
     "output_type": "execute_result"
    }
   ],
   "source": [
    "# running the classifiers for the SMOTE sampling\n",
    "\n",
    "model_scores = {}\n",
    "model_roc_scores = {}\n",
    "model_fbeta_score = {}\n",
    "precision_scores = {}\n",
    "\n",
    "DT_re_smote = DecisionTreeClassifier()\n",
    "log_smote = LogisticRegression()\n",
    "RF_smote = RandomForestClassifier()\n",
    "\n",
    "for model in [DT_re_smote, log_smote, RF_smote]:\n",
    "    model.fit(X_train, y_train)\n",
    "    y_pred = model.predict(X_test)\n",
    "    score = accuracy_score(y_test, y_pred)\n",
    "    model_scores[model] = score\n",
    "    \n",
    "    y_pred_proba = model.predict_proba(X_test)\n",
    "    roc = roc_auc_score(y_test, y_pred_proba[:,1])\n",
    "    model_roc_scores[model] = roc\n",
    "    \n",
    "    y_pred_proba = model.predict_proba(X_test)\n",
    "    fb_score = fbeta_score(y_test, y_pred, beta=0.5)\n",
    "    model_fbeta_score[model] = fb_score\n",
    "    \n",
    "    y_pred = model.predict(X_test)\n",
    "    p_score = precision_score(y_test, y_pred)\n",
    "    precision_scores[model] = p_score\n",
    "    \n",
    "    \n",
    "model_scores\n",
    "model_roc_scores\n",
    "model_fbeta_score\n",
    "precision_scores\n",
    "\n",
    "\n",
    "#creating the df for comparing the classifiers\n",
    "\n",
    "roc_df = pd.DataFrame(list(model_roc_scores.items()),columns = ['Model','Roc Auc Score']) \n",
    "scores_df = pd.DataFrame(list(model_scores.items()),columns = ['Model1','Accuracy Score'])\n",
    "precision_scores_df = pd.DataFrame(list(precision_scores.items()), columns=['Model3','Precision Score'])\n",
    "fbeta_scores_df = pd.DataFrame(list(model_fbeta_score.items()), columns=['Model2','F_beta Score'])\n",
    "\n",
    "total_scores_df = pd.concat([roc_df,scores_df ,precision_scores_df, fbeta_scores_df], axis=1)\n",
    "total_scores_df.drop(['Model1', 'Model2', 'Model3'], axis=1, inplace=True)\n",
    "total_scores_df.index.name = 'TOMEK Sampling'\n",
    "total_scores_df = total_scores_df.round(2)\n",
    "total_scores_df.index = ['DecisionTreeClassifier', 'LogisticRegression', 'RandomForestClassifier']\n",
    "total_scores_df"
   ]
  },
  {
   "cell_type": "code",
   "execution_count": 10,
   "metadata": {},
   "outputs": [
    {
     "data": {
      "image/png": "[encoded data removed]",
      "text/plain": [
       "<Figure size 432x288 with 1 Axes>"
      ]
     },
     "metadata": {
      "needs_background": "light"
     },
     "output_type": "display_data"
    }
   ],
   "source": [
    "#plotting the comparison - SMOTE sampling\n",
    "\n",
    "total_scores_df.plot(kind='bar')\n",
    "plt.title('SMOTE Sampling Metrics')\n",
    "plt.ylabel('Percentage')\n",
    "plt.xlabel('Classifiers')\n",
    "plt.show()"
   ]
  },
  {
   "cell_type": "code",
   "execution_count": 12,
   "metadata": {},
   "outputs": [
    {
     "data": {
      "text/html": [
       "<div>\n",
       "<style scoped>\n",
       "    .dataframe tbody tr th:only-of-type {\n",
       "        vertical-align: middle;\n",
       "    }\n",
       "\n",
       "    .dataframe tbody tr th {\n",
       "        vertical-align: top;\n",
       "    }\n",
       "\n",
       "    .dataframe thead th {\n",
       "        text-align: right;\n",
       "    }\n",
       "</style>\n",
       "<table border=\"1\" class=\"dataframe\">\n",
       "  <thead>\n",
       "    <tr style=\"text-align: right;\">\n",
       "      <th></th>\n",
       "      <th>Roc Auc Score</th>\n",
       "      <th>Accuracy Score</th>\n",
       "      <th>Precision Score</th>\n",
       "      <th>F_beta Score</th>\n",
       "    </tr>\n",
       "  </thead>\n",
       "  <tbody>\n",
       "    <tr>\n",
       "      <th>DecisionTreeClassifier</th>\n",
       "      <td>0.73</td>\n",
       "      <td>0.90</td>\n",
       "      <td>0.22</td>\n",
       "      <td>0.25</td>\n",
       "    </tr>\n",
       "    <tr>\n",
       "      <th>LogisticRegression</th>\n",
       "      <td>0.75</td>\n",
       "      <td>0.71</td>\n",
       "      <td>0.09</td>\n",
       "      <td>0.10</td>\n",
       "    </tr>\n",
       "    <tr>\n",
       "      <th>RandomForestClassifier</th>\n",
       "      <td>0.89</td>\n",
       "      <td>0.95</td>\n",
       "      <td>0.37</td>\n",
       "      <td>0.38</td>\n",
       "    </tr>\n",
       "  </tbody>\n",
       "</table>\n",
       "</div>"
      ],
      "text/plain": [
       "                        Roc Auc Score  Accuracy Score  Precision Score  \\\n",
       "DecisionTreeClassifier           0.73            0.90             0.22   \n",
       "LogisticRegression               0.75            0.71             0.09   \n",
       "RandomForestClassifier           0.89            0.95             0.37   \n",
       "\n",
       "                        F_beta Score  \n",
       "DecisionTreeClassifier          0.25  \n",
       "LogisticRegression              0.10  \n",
       "RandomForestClassifier          0.38  "
      ]
     },
     "execution_count": 12,
     "metadata": {},
     "output_type": "execute_result"
    }
   ],
   "source": [
    "#Final table for comparison\n",
    "total_scores_df.drop('Model', axis=1)"
   ]
  },
  {
   "cell_type": "markdown",
   "metadata": {},
   "source": [
    "## Running the classifiers for DT, RF, Log - SMOTE Sampling"
   ]
  },
  {
   "cell_type": "code",
   "execution_count": 19,
   "metadata": {},
   "outputs": [],
   "source": [
    "log_smote = LogisticRegression(solver='liblinear')\n",
    "log_smote.fit(X_train, y_train)\n",
    "log_smote_pred = log_smote.predict(X_test)"
   ]
  },
  {
   "cell_type": "code",
   "execution_count": 20,
   "metadata": {},
   "outputs": [
    {
     "data": {
      "text/plain": [
       "0.7142857142857143"
      ]
     },
     "execution_count": 20,
     "metadata": {},
     "output_type": "execute_result"
    }
   ],
   "source": [
    "accuracy_score(y_test,log_smote_pred)"
   ]
  },
  {
   "cell_type": "code",
   "execution_count": 21,
   "metadata": {},
   "outputs": [
    {
     "name": "stdout",
     "output_type": "stream",
     "text": [
      "              precision    recall  f1-score   support\n",
      "\n",
      "           0       0.98      0.72      0.83      1175\n",
      "           1       0.09      0.64      0.15        50\n",
      "\n",
      "    accuracy                           0.71      1225\n",
      "   macro avg       0.53      0.68      0.49      1225\n",
      "weighted avg       0.94      0.71      0.80      1225\n",
      "\n"
     ]
    }
   ],
   "source": [
    "print(classification_report(y_test, log_smote_pred))"
   ]
  },
  {
   "cell_type": "code",
   "execution_count": 28,
   "metadata": {},
   "outputs": [
    {
     "name": "stdout",
     "output_type": "stream",
     "text": [
      "No Skill: ROC AUC=0.500\n",
      "Logistics SMOTE: ROC AUC=0.749\n"
     ]
    },
    {
     "data": {
      "image/png": "[encoded data removed]",
      "text/plain": [
       "<Figure size 432x288 with 1 Axes>"
      ]
     },
     "metadata": {
      "needs_background": "light"
     },
     "output_type": "display_data"
    }
   ],
   "source": [
    "#AUC for logistic\n",
    "\n",
    "ns_probs = [0 for _ in range(len(y_test))]\n",
    "y_pred_log_smote_proba = log_smote.predict_proba(X_test)\n",
    "log_smote_probs = y_pred_log_smote_proba[:,1]\n",
    "ns_auc = roc_auc_score(y_test, ns_probs)\n",
    "log_smote_auc = roc_auc_score(y_test, log_smote_probs)\n",
    "print('No Skill: ROC AUC=%.3f' % (ns_auc))\n",
    "print('Logistics SMOTE: ROC AUC=%.3f' % (log_smote_auc))\n",
    "\n",
    "# calculate roc curves\n",
    "ns_fpr, ns_tpr, _ = roc_curve(y_test, ns_probs)\n",
    "logsomte_fpr, logsomte_tpr, _ = roc_curve(y_test, log_smote_probs)\n",
    "\n",
    "# plot the roc curve for the model\n",
    "plt.plot(ns_fpr, ns_tpr, linestyle='--', label='No Skill')\n",
    "plt.plot(logsomte_fpr, logsomte_tpr, marker='.', label='Logistics SMOTE')\n",
    "# axis labels\n",
    "plt.xlabel('False Positive Rate')\n",
    "plt.ylabel('True Positive Rate')\n",
    "# show the legend\n",
    "plt.legend()\n",
    "# show the plot\n",
    "plt.show()"
   ]
  },
  {
   "cell_type": "code",
   "execution_count": null,
   "metadata": {},
   "outputs": [],
   "source": []
  },
  {
   "cell_type": "code",
   "execution_count": 22,
   "metadata": {},
   "outputs": [],
   "source": [
    "DT_re_smote = DecisionTreeClassifier()\n",
    "DT_re_smote.fit(X_train, y_train)\n",
    "y_pred_DT_smote = DT_re_smote.predict(X_test)"
   ]
  },
  {
   "cell_type": "code",
   "execution_count": 23,
   "metadata": {},
   "outputs": [
    {
     "data": {
      "text/plain": [
       "0.9110204081632653"
      ]
     },
     "execution_count": 23,
     "metadata": {},
     "output_type": "execute_result"
    }
   ],
   "source": [
    "accuracy_score(y_test,y_pred_DT_smote)"
   ]
  },
  {
   "cell_type": "code",
   "execution_count": 24,
   "metadata": {},
   "outputs": [
    {
     "name": "stdout",
     "output_type": "stream",
     "text": [
      "              precision    recall  f1-score   support\n",
      "\n",
      "           0       0.98      0.93      0.95      1175\n",
      "           1       0.24      0.56      0.34        50\n",
      "\n",
      "    accuracy                           0.91      1225\n",
      "   macro avg       0.61      0.74      0.65      1225\n",
      "weighted avg       0.95      0.91      0.93      1225\n",
      "\n"
     ]
    }
   ],
   "source": [
    "print(classification_report(y_test, y_pred_DT_smote))"
   ]
  },
  {
   "cell_type": "code",
   "execution_count": 29,
   "metadata": {},
   "outputs": [
    {
     "name": "stdout",
     "output_type": "stream",
     "text": [
      "No Skill: ROC AUC=0.500\n",
      "DT SMOTE: ROC AUC=0.743\n"
     ]
    },
    {
     "data": {
      "image/png": "[encoded data removed]",
      "text/plain": [
       "<Figure size 432x288 with 1 Axes>"
      ]
     },
     "metadata": {
      "needs_background": "light"
     },
     "output_type": "display_data"
    }
   ],
   "source": [
    "#AUC for DT\n",
    "\n",
    "\n",
    "ns_probs = [0 for _ in range(len(y_test))]\n",
    "y_pred_DT_re_smote_proba = DT_re_smote.predict_proba(X_test)\n",
    "DT_smote_probs = y_pred_DT_re_smote_proba[:,1]\n",
    "ns_auc = roc_auc_score(y_test, ns_probs)\n",
    "DT_smote_auc = roc_auc_score(y_test, DT_smote_probs)\n",
    "print('No Skill: ROC AUC=%.3f' % (ns_auc))\n",
    "print('DT SMOTE: ROC AUC=%.3f' % (DT_smote_auc))\n",
    "\n",
    "# calculate roc curves\n",
    "ns_fpr, ns_tpr, _ = roc_curve(y_test, ns_probs)\n",
    "DTsomte_fpr, DTsomte_tpr, _ = roc_curve(y_test, DT_smote_probs)\n",
    "\n",
    "# plot the roc curve for the model\n",
    "plt.plot(ns_fpr, ns_tpr, linestyle='--', label='No Skill')\n",
    "plt.plot(DTsomte_fpr, DTsomte_tpr, marker='.', label='DT SMOTE')\n",
    "# axis labels\n",
    "plt.xlabel('False Positive Rate')\n",
    "plt.ylabel('True Positive Rate')\n",
    "# show the legend\n",
    "plt.legend()\n",
    "# show the plot\n",
    "plt.show()"
   ]
  },
  {
   "cell_type": "code",
   "execution_count": null,
   "metadata": {},
   "outputs": [],
   "source": []
  },
  {
   "cell_type": "code",
   "execution_count": 25,
   "metadata": {},
   "outputs": [
    {
     "data": {
      "text/plain": [
       "0.9485714285714286"
      ]
     },
     "execution_count": 25,
     "metadata": {},
     "output_type": "execute_result"
    }
   ],
   "source": [
    "RF_smote = RandomForestClassifier()\n",
    "RF_smote.fit(X_train, y_train)\n",
    "y_pred_RF_smote = RF_smote.predict(X_test)\n",
    "accuracy_score(y_test, y_pred_RF_smote)"
   ]
  },
  {
   "cell_type": "code",
   "execution_count": 26,
   "metadata": {},
   "outputs": [
    {
     "name": "stdout",
     "output_type": "stream",
     "text": [
      "              precision    recall  f1-score   support\n",
      "\n",
      "           0       0.98      0.97      0.97      1175\n",
      "           1       0.39      0.46      0.42        50\n",
      "\n",
      "    accuracy                           0.95      1225\n",
      "   macro avg       0.68      0.71      0.70      1225\n",
      "weighted avg       0.95      0.95      0.95      1225\n",
      "\n"
     ]
    }
   ],
   "source": [
    "print(classification_report(y_test, y_pred_RF_smote))"
   ]
  },
  {
   "cell_type": "code",
   "execution_count": 30,
   "metadata": {},
   "outputs": [
    {
     "name": "stdout",
     "output_type": "stream",
     "text": [
      "No Skill: ROC AUC=0.500\n",
      "RF SMOTE: ROC AUC=0.891\n"
     ]
    },
    {
     "data": {
      "image/png": "[encoded data removed]",
      "text/plain": [
       "<Figure size 432x288 with 1 Axes>"
      ]
     },
     "metadata": {
      "needs_background": "light"
     },
     "output_type": "display_data"
    }
   ],
   "source": [
    "#AUC for RF\n",
    "\n",
    "ns_probs = [0 for _ in range(len(y_test))]\n",
    "y_pred_RF_smote_proba = RF_smote.predict_proba(X_test)\n",
    "RF_smote_probs = y_pred_RF_smote_proba[:,1]\n",
    "ns_auc = roc_auc_score(y_test, ns_probs)\n",
    "RF_smote_auc = roc_auc_score(y_test, RF_smote_probs)\n",
    "print('No Skill: ROC AUC=%.3f' % (ns_auc))\n",
    "print('RF SMOTE: ROC AUC=%.3f' % (RF_smote_auc))\n",
    "\n",
    "# calculate roc curves\n",
    "ns_fpr, ns_tpr, _ = roc_curve(y_test, ns_probs)\n",
    "RFsomte_fpr, RFsomte_tpr, _ = roc_curve(y_test, RF_smote_probs)\n",
    "\n",
    "# plot the roc curve for the model\n",
    "plt.plot(ns_fpr, ns_tpr, linestyle='--', label='No Skill')\n",
    "plt.plot(RFsomte_fpr, RFsomte_tpr, marker='.', label='RF SMOTE')\n",
    "# axis labels\n",
    "plt.xlabel('False Positive Rate')\n",
    "plt.ylabel('True Positive Rate')\n",
    "# show the legend\n",
    "plt.legend()\n",
    "# show the plot\n",
    "plt.show()"
   ]
  },
  {
   "cell_type": "code",
   "execution_count": null,
   "metadata": {},
   "outputs": [],
   "source": []
  },
  {
   "cell_type": "code",
   "execution_count": 39,
   "metadata": {},
   "outputs": [
    {
     "data": {
      "image/png": "[encoded data removed]",
      "text/plain": [
       "<Figure size 432x288 with 1 Axes>"
      ]
     },
     "metadata": {
      "needs_background": "light"
     },
     "output_type": "display_data"
    }
   ],
   "source": [
    "#AUC for all\n",
    "\n",
    "ns_probs = [0 for _ in range(len(y_test))]\n",
    "y_pred_RF_smote_proba = RF_smote.predict_proba(X_test)\n",
    "RF_smote_probs = y_pred_RF_smote_proba[:,1]\n",
    "ns_auc = roc_auc_score(y_test, ns_probs)\n",
    "RF_smote_auc = roc_auc_score(y_test, RF_smote_probs)\n",
    "#print('No Skill: ROC AUC=%.3f' % (ns_auc))\n",
    "#print('RF SMOTE: ROC AUC=%.3f' % (RF_smote_auc))\n",
    "\n",
    "# calculate roc curves\n",
    "ns_fpr, ns_tpr, _ = roc_curve(y_test, ns_probs)\n",
    "RFsomte_fpr, RFsomte_tpr, _ = roc_curve(y_test, RF_smote_probs)\n",
    "\n",
    "# plot the roc curve for the model\n",
    "plt.plot(ns_fpr, ns_tpr, linestyle='--', label='No Skill')\n",
    "plt.plot(RFsomte_fpr, RFsomte_tpr, marker='.', label='RF SMOTE: ROC AUC=%.3f' % (RF_smote_auc))\n",
    "plt.plot(DTsomte_fpr, DTsomte_tpr, marker='.', label='DT SMOTE: ROC AUC=%.3f' % (DT_smote_auc))\n",
    "plt.plot(logsomte_fpr, logsomte_tpr, marker='.', label='Logistics SMOTE: ROC AUC=%.3f' % (log_smote_auc))\n",
    "# axis labels\n",
    "\n",
    "plt.title('Comparison with SMOTE')\n",
    "\n",
    "plt.xlabel('False Positive Rate')\n",
    "plt.ylabel('True Positive Rate')\n",
    "# show the legend\n",
    "plt.legend()\n",
    "# show the plot\n",
    "plt.show()"
   ]
  },
  {
   "cell_type": "code",
   "execution_count": null,
   "metadata": {},
   "outputs": [],
   "source": []
  }
 ],
 "metadata": {
  "kernelspec": {
   "display_name": "Python 3",
   "language": "python",
   "name": "python3"
  },
  "language_info": {
   "codemirror_mode": {
    "name": "ipython",
    "version": 3
   },
   "file_extension": ".py",
   "mimetype": "text/x-python",
   "name": "python",
   "nbconvert_exporter": "python",
   "pygments_lexer": "ipython3",
   "version": "3.8.3"
  }
 },
 "nbformat": 4,
 "nbformat_minor": 4
}
