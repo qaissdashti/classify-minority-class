{
 "cells": [
  {
   "cell_type": "markdown",
   "metadata": {},
   "source": [
    "## TOMEK Sampling and Ztest for Baseline and TOMEK -  #700055807"
   ]
  },
  {
   "cell_type": "code",
   "execution_count": 1,
   "metadata": {},
   "outputs": [],
   "source": [
    "#importing all modules\n",
    "import pandas as pd\n",
    "import numpy as np\n",
    "import seaborn as sns\n",
    "import matplotlib.pyplot as plt\n",
    "\n",
    "import numpy as np\n",
    "from sklearn.ensemble import RandomForestClassifier\n",
    "from sklearn.metrics import classification_report, precision_score,fbeta_score, accuracy_score, confusion_matrix, roc_curve, roc_auc_score\n",
    "from sklearn.model_selection import cross_validate, GridSearchCV\n",
    "from sklearn.tree import DecisionTreeClassifier\n",
    "from sklearn.model_selection import train_test_split, KFold\n",
    "from sklearn.ensemble import AdaBoostClassifier\n",
    "from sklearn.preprocessing import LabelEncoder\n",
    "from sklearn.linear_model import LogisticRegression"
   ]
  },
  {
   "cell_type": "code",
   "execution_count": 2,
   "metadata": {},
   "outputs": [],
   "source": [
    "#importing white wine data set (UCI https://archive.ics.uci.edu/ml/datasets/wine+quality)\n",
    "\n",
    "wine_df = pd.read_csv('data/winequality-white.csv', sep=';')\n",
    "\n",
    "data = wine_df.copy()"
   ]
  },
  {
   "cell_type": "code",
   "execution_count": 3,
   "metadata": {},
   "outputs": [],
   "source": [
    "#Creating the catigorical target, less than 8 as 0 and more than 8 as 1\n",
    "\n",
    "data['type'] = np.where(data['quality'] < 8, 'bad', 'good')"
   ]
  },
  {
   "cell_type": "code",
   "execution_count": 4,
   "metadata": {},
   "outputs": [],
   "source": [
    "# using the enconder to code 0,1 for bad and good respectvily \n",
    "\n",
    "le = LabelEncoder()\n",
    "data['target'] = le.fit_transform(data['type'])"
   ]
  },
  {
   "cell_type": "code",
   "execution_count": 5,
   "metadata": {},
   "outputs": [
    {
     "data": {
      "text/plain": [
       "bad     96.325031\n",
       "good     3.674969\n",
       "Name: type, dtype: float64"
      ]
     },
     "execution_count": 5,
     "metadata": {},
     "output_type": "execute_result"
    }
   ],
   "source": [
    "data['type'].value_counts(normalize=True)* 100"
   ]
  },
  {
   "cell_type": "markdown",
   "metadata": {},
   "source": [
    "## Splitting train data for TOMEK"
   ]
  },
  {
   "cell_type": "code",
   "execution_count": 6,
   "metadata": {},
   "outputs": [],
   "source": [
    "#import TOMEK\n",
    "\n",
    "from imblearn.under_sampling import TomekLinks\n",
    "# Separate input features and target\n",
    "y = data.iloc[:,-1]\n",
    "X = data.iloc[:,:-3]\n",
    "\n",
    "# setting up testing and training sets\n",
    "X_train, X_test, y_train, y_test = train_test_split(X, y, random_state=27)\n",
    "\n",
    "tl = TomekLinks(sampling_strategy='not majority')\n",
    "X_train, y_train = tl.fit_resample(X_train, y_train)"
   ]
  },
  {
   "cell_type": "code",
   "execution_count": null,
   "metadata": {},
   "outputs": [],
   "source": []
  },
  {
   "cell_type": "code",
   "execution_count": 7,
   "metadata": {},
   "outputs": [
    {
     "name": "stderr",
     "output_type": "stream",
     "text": [
      "/Users/mac/opt/anaconda3/lib/python3.8/site-packages/sklearn/linear_model/_logistic.py:762: ConvergenceWarning: lbfgs failed to converge (status=1):\n",
      "STOP: TOTAL NO. of ITERATIONS REACHED LIMIT.\n",
      "\n",
      "Increase the number of iterations (max_iter) or scale the data as shown in:\n",
      "    https://scikit-learn.org/stable/modules/preprocessing.html\n",
      "Please also refer to the documentation for alternative solver options:\n",
      "    https://scikit-learn.org/stable/modules/linear_model.html#logistic-regression\n",
      "  n_iter_i = _check_optimize_result(\n",
      "/Users/mac/opt/anaconda3/lib/python3.8/site-packages/sklearn/metrics/_classification.py:1221: UndefinedMetricWarning: Precision is ill-defined and being set to 0.0 due to no predicted samples. Use `zero_division` parameter to control this behavior.\n",
      "  _warn_prf(average, modifier, msg_start, len(result))\n"
     ]
    },
    {
     "data": {
      "text/html": [
       "<div>\n",
       "<style scoped>\n",
       "    .dataframe tbody tr th:only-of-type {\n",
       "        vertical-align: middle;\n",
       "    }\n",
       "\n",
       "    .dataframe tbody tr th {\n",
       "        vertical-align: top;\n",
       "    }\n",
       "\n",
       "    .dataframe thead th {\n",
       "        text-align: right;\n",
       "    }\n",
       "</style>\n",
       "<table border=\"1\" class=\"dataframe\">\n",
       "  <thead>\n",
       "    <tr style=\"text-align: right;\">\n",
       "      <th></th>\n",
       "      <th>Model</th>\n",
       "      <th>Roc Auc Score</th>\n",
       "      <th>Accuracy Score</th>\n",
       "      <th>Precision Score</th>\n",
       "      <th>F_beta Score</th>\n",
       "    </tr>\n",
       "  </thead>\n",
       "  <tbody>\n",
       "    <tr>\n",
       "      <th>DecisionTreeClassifier</th>\n",
       "      <td>DecisionTreeClassifier()</td>\n",
       "      <td>0.65</td>\n",
       "      <td>0.96</td>\n",
       "      <td>0.57</td>\n",
       "      <td>0.49</td>\n",
       "    </tr>\n",
       "    <tr>\n",
       "      <th>LogisticRegression</th>\n",
       "      <td>LogisticRegression()</td>\n",
       "      <td>0.73</td>\n",
       "      <td>0.96</td>\n",
       "      <td>0.00</td>\n",
       "      <td>0.00</td>\n",
       "    </tr>\n",
       "    <tr>\n",
       "      <th>RandomForestClassifier</th>\n",
       "      <td>(DecisionTreeClassifier(max_features='auto', r...</td>\n",
       "      <td>0.87</td>\n",
       "      <td>0.97</td>\n",
       "      <td>0.93</td>\n",
       "      <td>0.64</td>\n",
       "    </tr>\n",
       "  </tbody>\n",
       "</table>\n",
       "</div>"
      ],
      "text/plain": [
       "                                                                    Model  \\\n",
       "DecisionTreeClassifier                           DecisionTreeClassifier()   \n",
       "LogisticRegression                                   LogisticRegression()   \n",
       "RandomForestClassifier  (DecisionTreeClassifier(max_features='auto', r...   \n",
       "\n",
       "                        Roc Auc Score  Accuracy Score  Precision Score  \\\n",
       "DecisionTreeClassifier           0.65            0.96             0.57   \n",
       "LogisticRegression               0.73            0.96             0.00   \n",
       "RandomForestClassifier           0.87            0.97             0.93   \n",
       "\n",
       "                        F_beta Score  \n",
       "DecisionTreeClassifier          0.49  \n",
       "LogisticRegression              0.00  \n",
       "RandomForestClassifier          0.64  "
      ]
     },
     "execution_count": 7,
     "metadata": {},
     "output_type": "execute_result"
    }
   ],
   "source": [
    "# running the classifiers for the TOMEK sampling\n",
    "\n",
    "\n",
    "model_scores = {}\n",
    "model_roc_scores = {}\n",
    "model_fbeta_score = {}\n",
    "precision_scores = {}\n",
    "\n",
    "DT_re_tl = DecisionTreeClassifier()\n",
    "log_tl = LogisticRegression()\n",
    "RF_tl = RandomForestClassifier()\n",
    "\n",
    "for model in [DT_re_tl, log_tl, RF_tl]:\n",
    "    model.fit(X_train, y_train)\n",
    "    y_pred = model.predict(X_test)\n",
    "    score = accuracy_score(y_test, y_pred)\n",
    "    model_scores[model] = score\n",
    "    \n",
    "    y_pred_proba = model.predict_proba(X_test)\n",
    "    roc = roc_auc_score(y_test, y_pred_proba[:,1])\n",
    "    model_roc_scores[model] = roc\n",
    "    \n",
    "    y_pred_proba = model.predict_proba(X_test)\n",
    "    fb_score = fbeta_score(y_test, y_pred, beta=0.5)\n",
    "    model_fbeta_score[model] = fb_score\n",
    "    \n",
    "    y_pred = model.predict(X_test)\n",
    "    p_score = precision_score(y_test, y_pred)\n",
    "    precision_scores[model] = p_score\n",
    "    \n",
    "    \n",
    "model_scores\n",
    "model_roc_scores\n",
    "model_fbeta_score\n",
    "precision_scores\n",
    "\n",
    "roc_df = pd.DataFrame(list(model_roc_scores.items()),columns = ['Model','Roc Auc Score']) \n",
    "scores_df = pd.DataFrame(list(model_scores.items()),columns = ['Model1','Accuracy Score'])\n",
    "precision_scores_df = pd.DataFrame(list(precision_scores.items()), columns=['Model3','Precision Score'])\n",
    "fbeta_scores_df = pd.DataFrame(list(model_fbeta_score.items()), columns=['Model2','F_beta Score'])\n",
    "\n",
    "total_scores_df = pd.concat([roc_df,scores_df ,precision_scores_df, fbeta_scores_df], axis=1)\n",
    "total_scores_df.drop(['Model1', 'Model2', 'Model3'], axis=1, inplace=True)\n",
    "total_scores_df.index.name = 'TOMEK Sampling'\n",
    "total_scores_df = total_scores_df.round(2)\n",
    "total_scores_df.index = ['DecisionTreeClassifier', 'LogisticRegression', 'RandomForestClassifier']\n",
    "total_scores_df"
   ]
  },
  {
   "cell_type": "code",
   "execution_count": 8,
   "metadata": {},
   "outputs": [
    {
     "data": {
      "image/png": "[encoded data removed]",
      "text/plain": [
       "<Figure size 432x288 with 1 Axes>"
      ]
     },
     "metadata": {
      "needs_background": "light"
     },
     "output_type": "display_data"
    }
   ],
   "source": [
    "#plotting the comparison - TOMEK sampling\n",
    "\n",
    "total_scores_df.plot(kind='bar')\n",
    "plt.title('TOMEK Sampling Metrics')\n",
    "plt.ylabel('Percentage')\n",
    "plt.xlabel('Classifiers')\n",
    "plt.show()"
   ]
  },
  {
   "cell_type": "code",
   "execution_count": 9,
   "metadata": {},
   "outputs": [
    {
     "data": {
      "text/html": [
       "<div>\n",
       "<style scoped>\n",
       "    .dataframe tbody tr th:only-of-type {\n",
       "        vertical-align: middle;\n",
       "    }\n",
       "\n",
       "    .dataframe tbody tr th {\n",
       "        vertical-align: top;\n",
       "    }\n",
       "\n",
       "    .dataframe thead th {\n",
       "        text-align: right;\n",
       "    }\n",
       "</style>\n",
       "<table border=\"1\" class=\"dataframe\">\n",
       "  <thead>\n",
       "    <tr style=\"text-align: right;\">\n",
       "      <th></th>\n",
       "      <th>Roc Auc Score</th>\n",
       "      <th>Accuracy Score</th>\n",
       "      <th>Precision Score</th>\n",
       "      <th>F_beta Score</th>\n",
       "    </tr>\n",
       "  </thead>\n",
       "  <tbody>\n",
       "    <tr>\n",
       "      <th>DecisionTreeClassifier</th>\n",
       "      <td>0.65</td>\n",
       "      <td>0.96</td>\n",
       "      <td>0.57</td>\n",
       "      <td>0.49</td>\n",
       "    </tr>\n",
       "    <tr>\n",
       "      <th>LogisticRegression</th>\n",
       "      <td>0.73</td>\n",
       "      <td>0.96</td>\n",
       "      <td>0.00</td>\n",
       "      <td>0.00</td>\n",
       "    </tr>\n",
       "    <tr>\n",
       "      <th>RandomForestClassifier</th>\n",
       "      <td>0.87</td>\n",
       "      <td>0.97</td>\n",
       "      <td>0.93</td>\n",
       "      <td>0.64</td>\n",
       "    </tr>\n",
       "  </tbody>\n",
       "</table>\n",
       "</div>"
      ],
      "text/plain": [
       "                        Roc Auc Score  Accuracy Score  Precision Score  \\\n",
       "DecisionTreeClassifier           0.65            0.96             0.57   \n",
       "LogisticRegression               0.73            0.96             0.00   \n",
       "RandomForestClassifier           0.87            0.97             0.93   \n",
       "\n",
       "                        F_beta Score  \n",
       "DecisionTreeClassifier          0.49  \n",
       "LogisticRegression              0.00  \n",
       "RandomForestClassifier          0.64  "
      ]
     },
     "execution_count": 9,
     "metadata": {},
     "output_type": "execute_result"
    }
   ],
   "source": [
    "#Final df for comparison\n",
    "total_scores_df.drop('Model', axis=1)"
   ]
  },
  {
   "cell_type": "markdown",
   "metadata": {},
   "source": [
    "## Running the classifiers for DT, RF, Log - TOMEK Sampling\n"
   ]
  },
  {
   "cell_type": "code",
   "execution_count": 10,
   "metadata": {},
   "outputs": [],
   "source": [
    "log_tl = LogisticRegression(solver='liblinear')\n",
    "log_tl.fit(X_train, y_train)\n",
    "y_pred_log_tl = log_tl.predict(X_test)"
   ]
  },
  {
   "cell_type": "code",
   "execution_count": 11,
   "metadata": {},
   "outputs": [
    {
     "data": {
      "text/plain": [
       "0.9591836734693877"
      ]
     },
     "execution_count": 11,
     "metadata": {},
     "output_type": "execute_result"
    }
   ],
   "source": [
    "accuracy_score(y_test, y_pred_log_tl)"
   ]
  },
  {
   "cell_type": "code",
   "execution_count": 12,
   "metadata": {},
   "outputs": [
    {
     "name": "stdout",
     "output_type": "stream",
     "text": [
      "No Skill: ROC AUC=0.500\n",
      "Logistic TOMEK: ROC AUC=0.721\n"
     ]
    },
    {
     "data": {
      "image/png": "[encoded data removed]",
      "text/plain": [
       "<Figure size 432x288 with 1 Axes>"
      ]
     },
     "metadata": {
      "needs_background": "light"
     },
     "output_type": "display_data"
    }
   ],
   "source": [
    "#AUC for logistic\n",
    "\n",
    "ns_probs = [0 for _ in range(len(y_test))]\n",
    "y_pred_log_tl_proba = log_tl.predict_proba(X_test)\n",
    "log_tl_probs = y_pred_log_tl_proba[:,1]\n",
    "ns_auc = roc_auc_score(y_test, ns_probs)\n",
    "log_tl_auc = roc_auc_score(y_test, log_tl_probs)\n",
    "print('No Skill: ROC AUC=%.3f' % (ns_auc))\n",
    "print('Logistic TOMEK: ROC AUC=%.3f' % (log_tl_auc))\n",
    "\n",
    "# calculate roc curves\n",
    "ns_fpr, ns_tpr, _ = roc_curve(y_test, ns_probs)\n",
    "logtl_fpr, logtl_tpr, _ = roc_curve(y_test, log_tl_probs)\n",
    "\n",
    "# plot the roc curve for the model\n",
    "plt.plot(ns_fpr, ns_tpr, linestyle='--', label='No Skill')\n",
    "plt.plot(logtl_fpr, logtl_tpr, marker='.', label='Logistic TOMEK')\n",
    "\n",
    "# axis labels\n",
    "plt.xlabel('False Positive Rate')\n",
    "plt.ylabel('True Positive Rate')\n",
    "# show the legend\n",
    "plt.legend()\n",
    "# show the plot\n",
    "plt.show()"
   ]
  },
  {
   "cell_type": "code",
   "execution_count": 9,
   "metadata": {},
   "outputs": [
    {
     "name": "stdout",
     "output_type": "stream",
     "text": [
      "              precision    recall  f1-score   support\n",
      "\n",
      "           0       0.96      1.00      0.98      1175\n",
      "           1       0.00      0.00      0.00        50\n",
      "\n",
      "    accuracy                           0.96      1225\n",
      "   macro avg       0.48      0.50      0.49      1225\n",
      "weighted avg       0.92      0.96      0.94      1225\n",
      "\n"
     ]
    },
    {
     "name": "stderr",
     "output_type": "stream",
     "text": [
      "/Users/mac/opt/anaconda3/lib/python3.8/site-packages/sklearn/metrics/_classification.py:1221: UndefinedMetricWarning: Precision and F-score are ill-defined and being set to 0.0 in labels with no predicted samples. Use `zero_division` parameter to control this behavior.\n",
      "  _warn_prf(average, modifier, msg_start, len(result))\n"
     ]
    }
   ],
   "source": [
    "print(classification_report(y_test, y_pred_log_tl))"
   ]
  },
  {
   "cell_type": "code",
   "execution_count": null,
   "metadata": {},
   "outputs": [],
   "source": []
  },
  {
   "cell_type": "code",
   "execution_count": 10,
   "metadata": {},
   "outputs": [],
   "source": [
    "DT_re_tl = DecisionTreeClassifier()\n",
    "DT_re_tl.fit(X_train, y_train)\n",
    "y_pred_DT_tl = DT_re_tl.predict(X_test)"
   ]
  },
  {
   "cell_type": "code",
   "execution_count": 11,
   "metadata": {},
   "outputs": [
    {
     "data": {
      "text/plain": [
       "0.9583673469387755"
      ]
     },
     "execution_count": 11,
     "metadata": {},
     "output_type": "execute_result"
    }
   ],
   "source": [
    "accuracy_score(y_test, y_pred_DT_tl)"
   ]
  },
  {
   "cell_type": "code",
   "execution_count": 12,
   "metadata": {},
   "outputs": [
    {
     "name": "stdout",
     "output_type": "stream",
     "text": [
      "              precision    recall  f1-score   support\n",
      "\n",
      "           0       0.97      0.98      0.98      1175\n",
      "           1       0.49      0.36      0.41        50\n",
      "\n",
      "    accuracy                           0.96      1225\n",
      "   macro avg       0.73      0.67      0.70      1225\n",
      "weighted avg       0.95      0.96      0.96      1225\n",
      "\n"
     ]
    }
   ],
   "source": [
    "print(classification_report(y_test, y_pred_DT_tl))"
   ]
  },
  {
   "cell_type": "code",
   "execution_count": 38,
   "metadata": {},
   "outputs": [
    {
     "name": "stdout",
     "output_type": "stream",
     "text": [
      "No Skill: ROC AUC=0.500\n",
      "DT TOMEK: ROC AUC=0.672\n"
     ]
    },
    {
     "data": {
      "image/png": "[encoded data removed]",
      "text/plain": [
       "<Figure size 432x288 with 1 Axes>"
      ]
     },
     "metadata": {
      "needs_background": "light"
     },
     "output_type": "display_data"
    }
   ],
   "source": [
    "#AUC for DT\n",
    "\n",
    "ns_probs = [0 for _ in range(len(y_test))]\n",
    "y_pred_DT_re_tl_proba = DT_re_tl.predict_proba(X_test)\n",
    "DT_re_tl_probs = y_pred_DT_re_tl_proba[:,1]\n",
    "ns_auc = roc_auc_score(y_test, ns_probs)\n",
    "DT_re_tl_auc = roc_auc_score(y_test, DT_re_tl_probs)\n",
    "print('No Skill: ROC AUC=%.3f' % (ns_auc))\n",
    "print('DT TOMEK: ROC AUC=%.3f' % (DT_re_tl_auc))\n",
    "\n",
    "# calculate roc curves\n",
    "ns_fpr, ns_tpr, _ = roc_curve(y_test, ns_probs)\n",
    "DTtl_fpr, DTtl_tpr, _ = roc_curve(y_test, DT_re_tl_probs)\n",
    "\n",
    "# plot the roc curve for the model\n",
    "plt.plot(ns_fpr, ns_tpr, linestyle='--', label='No Skill')\n",
    "plt.plot(DTtl_fpr, DTtl_tpr, marker='.', label='DT TOMEK')\n",
    "# axis labels\n",
    "plt.xlabel('False Positive Rate')\n",
    "plt.ylabel('True Positive Rate')\n",
    "# show the legend\n",
    "plt.legend()\n",
    "# show the plot\n",
    "plt.show()"
   ]
  },
  {
   "cell_type": "code",
   "execution_count": null,
   "metadata": {},
   "outputs": [],
   "source": []
  },
  {
   "cell_type": "code",
   "execution_count": 13,
   "metadata": {},
   "outputs": [
    {
     "data": {
      "text/plain": [
       "0.9697959183673469"
      ]
     },
     "execution_count": 13,
     "metadata": {},
     "output_type": "execute_result"
    }
   ],
   "source": [
    "RF_tl = RandomForestClassifier()\n",
    "RF_tl.fit(X_train, y_train)\n",
    "y_pred_RF_tl = RF_tl.predict(X_test)\n",
    "accuracy_score(y_test, y_pred_RF_tl)"
   ]
  },
  {
   "cell_type": "code",
   "execution_count": 14,
   "metadata": {},
   "outputs": [
    {
     "name": "stdout",
     "output_type": "stream",
     "text": [
      "              precision    recall  f1-score   support\n",
      "\n",
      "           0       0.97      1.00      0.98      1175\n",
      "           1       0.93      0.28      0.43        50\n",
      "\n",
      "    accuracy                           0.97      1225\n",
      "   macro avg       0.95      0.64      0.71      1225\n",
      "weighted avg       0.97      0.97      0.96      1225\n",
      "\n"
     ]
    }
   ],
   "source": [
    "print(classification_report(y_test, y_pred_RF_tl))"
   ]
  },
  {
   "cell_type": "code",
   "execution_count": 39,
   "metadata": {},
   "outputs": [
    {
     "name": "stdout",
     "output_type": "stream",
     "text": [
      "No Skill: ROC AUC=0.500\n",
      "RF TOMEK: ROC AUC=0.866\n"
     ]
    },
    {
     "data": {
      "image/png": "[encoded data removed]",
      "text/plain": [
       "<Figure size 432x288 with 1 Axes>"
      ]
     },
     "metadata": {
      "needs_background": "light"
     },
     "output_type": "display_data"
    }
   ],
   "source": [
    "#AUC for RF\n",
    "\n",
    "ns_probs = [0 for _ in range(len(y_test))]\n",
    "y_pred_RF_tl_proba = RF_tl.predict_proba(X_test)\n",
    "RF_tl_probs = y_pred_RF_tl_proba[:,1]\n",
    "ns_auc = roc_auc_score(y_test, ns_probs)\n",
    "RF_tl_auc = roc_auc_score(y_test, RF_tl_probs)\n",
    "print('No Skill: ROC AUC=%.3f' % (ns_auc))\n",
    "print('RF TOMEK: ROC AUC=%.3f' % (RF_tl_auc))\n",
    "\n",
    "# calculate roc curves\n",
    "ns_fpr, ns_tpr, _ = roc_curve(y_test, ns_probs)\n",
    "RFtl_fpr, RFtl_tpr, _ = roc_curve(y_test, RF_tl_probs)\n",
    "\n",
    "# plot the roc curve for the model\n",
    "plt.plot(ns_fpr, ns_tpr, linestyle='--', label='No Skill')\n",
    "plt.plot(RFtl_fpr, RFtl_tpr, marker='.', label='RF TOMEK')\n",
    "# axis labels\n",
    "plt.xlabel('False Positive Rate')\n",
    "plt.ylabel('True Positive Rate')\n",
    "# show the legend\n",
    "plt.legend()\n",
    "# show the plot\n",
    "plt.show()"
   ]
  },
  {
   "cell_type": "markdown",
   "metadata": {},
   "source": [
    "### Finding the best theshold test"
   ]
  },
  {
   "cell_type": "code",
   "execution_count": 59,
   "metadata": {},
   "outputs": [
    {
     "name": "stdout",
     "output_type": "stream",
     "text": [
      "Best Threshold=0.130000, F-Score=0.463\n"
     ]
    },
    {
     "data": {
      "image/png": "[encoded data removed]",
      "text/plain": [
       "<Figure size 432x288 with 1 Axes>"
      ]
     },
     "metadata": {
      "needs_background": "light"
     },
     "output_type": "display_data"
    }
   ],
   "source": [
    "#how to get best threshold, testing on RF only\n",
    "\n",
    "y_pred_RF_tl_proba = RF_tl.predict_proba(X_test)\n",
    "RF_tl_probs = y_pred_RF_tl_proba[:,1]\n",
    "y_pred_RF_tl = RF_tl.predict(X_test)\n",
    "\n",
    "RF_precision, RF_recall, thre = precision_recall_curve(y_test, RF_tl_probs)\n",
    "\n",
    "\n",
    "fscore = (2 * RF_precision * RF_recall) / (RF_precision + RF_recall)\n",
    "# locate the index of the largest f score\n",
    "ix = np.argmax(fscore)\n",
    "print('Best Threshold=%f, F-Score=%.3f' % (thre[ix], fscore[ix]))\n",
    "\n",
    "\n",
    "RF_f1, RF_auc = f1_score(y_test, y_pred_RF_tl), auc(RF_recall, RF_precision)\n",
    "\n",
    "no_skill = len(y_test[y_test==1]) / len(y_test)\n",
    "plt.plot([0, 1], [no_skill, no_skill], linestyle='--', label='No Skill')\n",
    "plt.plot(RF_recall, RF_precision, marker='.', label='RF')\n",
    "plt.scatter(RF_recall[ix], RF_precision[ix], marker='o', color='black', label='Best')\n",
    "\n",
    "plt.xlabel('Recall')\n",
    "plt.ylabel('Precision')\n",
    "# show the legend\n",
    "plt.legend()\n",
    "# show the plot\n",
    "plt.show()\n",
    "\n",
    "\n"
   ]
  },
  {
   "cell_type": "code",
   "execution_count": 52,
   "metadata": {},
   "outputs": [
    {
     "name": "stdout",
     "output_type": "stream",
     "text": [
      "this is a threshold of: 0.0\n",
      "[[597 578]\n",
      " [  4  46]]\n",
      "this is a threshold of: 0.1\n",
      "[[1117   58]\n",
      " [  20   30]]\n",
      "this is a threshold of: 0.2\n",
      "[[1158   17]\n",
      " [  34   16]]\n",
      "this is a threshold of: 0.30000000000000004\n",
      "[[1170    5]\n",
      " [  36   14]]\n",
      "this is a threshold of: 0.4\n",
      "[[1173    2]\n",
      " [  36   14]]\n",
      "this is a threshold of: 0.5\n",
      "[[1174    1]\n",
      " [  36   14]]\n",
      "this is a threshold of: 0.6000000000000001\n",
      "[[1175    0]\n",
      " [  36   14]]\n",
      "this is a threshold of: 0.7000000000000001\n",
      "[[1175    0]\n",
      " [  43    7]]\n",
      "this is a threshold of: 0.8\n",
      "[[1175    0]\n",
      " [  44    6]]\n",
      "this is a threshold of: 0.9\n",
      "[[1175    0]\n",
      " [  44    6]]\n"
     ]
    }
   ],
   "source": [
    "#view best threshold in confusion matrix\n",
    "\n",
    "for thre in np.arange(0,1,0.1):\n",
    "    y = y_pred_RF_tl_proba[:,1] > thre\n",
    "    print('this is a threshold of: '+ str(thre))\n",
    "    print(confusion_matrix(y_test, y))"
   ]
  },
  {
   "cell_type": "code",
   "execution_count": null,
   "metadata": {},
   "outputs": [],
   "source": []
  },
  {
   "cell_type": "code",
   "execution_count": 72,
   "metadata": {},
   "outputs": [
    {
     "name": "stdout",
     "output_type": "stream",
     "text": [
      "No Skill: ROC AUC=0.500\n",
      "Logistic TOMEK: ROC AUC=0.721\n"
     ]
    },
    {
     "data": {
      "image/png": "[encoded data removed]",
      "text/plain": [
       "<Figure size 432x288 with 1 Axes>"
      ]
     },
     "metadata": {
      "needs_background": "light"
     },
     "output_type": "display_data"
    }
   ],
   "source": [
    "#all AUC\n",
    "\n",
    "ns_probs = [0 for _ in range(len(y_test))]\n",
    "y_pred_log_tl_proba = log_tl.predict_proba(X_test)\n",
    "log_tl_probs = y_pred_log_tl_proba[:,1]\n",
    "ns_auc = roc_auc_score(y_test, ns_probs)\n",
    "log_tl_auc = roc_auc_score(y_test, log_tl_probs)\n",
    "print('No Skill: ROC AUC=%.3f' % (ns_auc))\n",
    "print('Logistic TOMEK: ROC AUC=%.3f' % (log_tl_auc))\n",
    "\n",
    "# calculate roc curves\n",
    "ns_fpr, ns_tpr, _ = roc_curve(y_test, ns_probs)\n",
    "logtl_fpr, logtl_tpr, _ = roc_curve(y_test, log_tl_probs)\n",
    "\n",
    "\n",
    "# plot the roc curve for the model\n",
    "plt.plot(ns_fpr, ns_tpr, linestyle='--', label='No Skill')\n",
    "plt.plot(logtl_fpr, logtl_tpr, marker='.', label='Logistic TOMEK: ROC AUC=%.3f' % (log_tl_auc))\n",
    "plt.plot(RFtl_fpr, RFtl_tpr, marker='.', label='RF TOMEK: ROC AUC=%.3f' % (RF_tl_auc))\n",
    "plt.plot(DTtl_fpr, DTtl_tpr, marker='.', label='DT TOMEK: ROC AUC=%.3f' % (DT_re_tl_auc))\n",
    "\n",
    "\n",
    "\n",
    "# axis labels\n",
    "plt.title('Comparison with TOMEK')\n",
    "\n",
    "plt.xlabel('False Positive Rate')\n",
    "plt.ylabel('True Positive Rate')\n",
    "# show the legend\n",
    "plt.legend()\n",
    "# show the plot\n",
    "plt.show()"
   ]
  },
  {
   "cell_type": "markdown",
   "metadata": {},
   "source": [
    "## Z-test for TOMEK and Baseline for Random Forest only"
   ]
  },
  {
   "cell_type": "code",
   "execution_count": 13,
   "metadata": {},
   "outputs": [],
   "source": [
    "#running TOMEK classifier 100x\n",
    "\n",
    "RF_tomek_list = []\n",
    "\n",
    "for i in range(0,100):\n",
    "\n",
    "    RF_tl = RandomForestClassifier()\n",
    "    RF_tl.fit(X_train, y_train)\n",
    "    #y_pred_RF_tl = RF_tl.predict(X_test)\n",
    "    #accuracy_score(y_test, y_pred_RF_tl)\n",
    "    #ns_probs = [0 for _ in range(len(y_test))]\n",
    "    y_pred_RF_tl_proba = RF_tl.predict_proba(X_test)\n",
    "    RF_tl_probs = y_pred_RF_tl_proba[:,1]\n",
    "    #ns_auc = roc_auc_score(y_test, ns_probs)\n",
    "    RF_tl_auc = roc_auc_score(y_test, RF_tl_probs)\n",
    "    #print(RF_tl_auc)\n",
    "    RF_tomek_list.append(RF_tl_auc)\n",
    "    \n"
   ]
  },
  {
   "cell_type": "code",
   "execution_count": null,
   "metadata": {},
   "outputs": [],
   "source": []
  },
  {
   "cell_type": "code",
   "execution_count": 15,
   "metadata": {},
   "outputs": [],
   "source": [
    "#Train and Test for RF with no sampling methods\n",
    "X_train_n, X_test_n, y_train_n, y_test_n = train_test_split(X, y, random_state=27)\n"
   ]
  },
  {
   "cell_type": "code",
   "execution_count": 16,
   "metadata": {},
   "outputs": [],
   "source": [
    "#running baseline classifier 100x\n",
    "\n",
    "RF_normal_list = []\n",
    "\n",
    "\n",
    "for i in range(0,100):\n",
    "\n",
    "    RF_n = RandomForestClassifier()\n",
    "    RF_n.fit(X_train_n, y_train_n)\n",
    "    #y_pred_RF_tl = RF_tl.predict(X_test)\n",
    "    #accuracy_score(y_test, y_pred_RF_tl)\n",
    "    #ns_probs = [0 for _ in range(len(y_test))]\n",
    "    y_pred_RF_tl_proba = RF_n.predict_proba(X_test_n)\n",
    "    RF_tl_probs = y_pred_RF_tl_proba[:,1]\n",
    "    #ns_auc = roc_auc_score(y_test, ns_probs)\n",
    "    RF_tl_auc = roc_auc_score(y_test, RF_tl_probs)\n",
    "    #print(RF_tl_auc)\n",
    "    RF_normal_list.append(RF_tl_auc)\n",
    "    "
   ]
  },
  {
   "cell_type": "code",
   "execution_count": 18,
   "metadata": {},
   "outputs": [
    {
     "data": {
      "image/png": "[encoded data removed]",
      "text/plain": [
       "<Figure size 432x288 with 1 Axes>"
      ]
     },
     "metadata": {
      "needs_background": "light"
     },
     "output_type": "display_data"
    }
   ],
   "source": [
    "# Side by Side TOMEK and Baseline AUC scores\n",
    "plt.title('Side by Side TOMEK and Baseline AUC scores')\n",
    "plt.hist(RF_normal_list, alpha=0.5, label='Baseline Random Forrest')\n",
    "plt.hist(RF_tomek_list,alpha=0.5, label='TOMEK Random Forrest')\n",
    "plt.xlabel('Scores Distributions')\n",
    "plt.legend()\n",
    "plt.show()\n"
   ]
  },
  {
   "cell_type": "code",
   "execution_count": null,
   "metadata": {},
   "outputs": [],
   "source": []
  },
  {
   "cell_type": "code",
   "execution_count": 19,
   "metadata": {},
   "outputs": [
    {
     "data": {
      "text/html": [
       "<div>\n",
       "<style scoped>\n",
       "    .dataframe tbody tr th:only-of-type {\n",
       "        vertical-align: middle;\n",
       "    }\n",
       "\n",
       "    .dataframe tbody tr th {\n",
       "        vertical-align: top;\n",
       "    }\n",
       "\n",
       "    .dataframe thead th {\n",
       "        text-align: right;\n",
       "    }\n",
       "</style>\n",
       "<table border=\"1\" class=\"dataframe\">\n",
       "  <thead>\n",
       "    <tr style=\"text-align: right;\">\n",
       "      <th></th>\n",
       "      <th>Normal_RF</th>\n",
       "      <th>TOMEK_RF</th>\n",
       "    </tr>\n",
       "  </thead>\n",
       "  <tbody>\n",
       "    <tr>\n",
       "      <th>0</th>\n",
       "      <td>0.896077</td>\n",
       "      <td>0.861336</td>\n",
       "    </tr>\n",
       "    <tr>\n",
       "      <th>1</th>\n",
       "      <td>0.882987</td>\n",
       "      <td>0.867643</td>\n",
       "    </tr>\n",
       "    <tr>\n",
       "      <th>2</th>\n",
       "      <td>0.890230</td>\n",
       "      <td>0.856281</td>\n",
       "    </tr>\n",
       "    <tr>\n",
       "      <th>3</th>\n",
       "      <td>0.871379</td>\n",
       "      <td>0.870068</td>\n",
       "    </tr>\n",
       "    <tr>\n",
       "      <th>4</th>\n",
       "      <td>0.874051</td>\n",
       "      <td>0.860791</td>\n",
       "    </tr>\n",
       "    <tr>\n",
       "      <th>...</th>\n",
       "      <td>...</td>\n",
       "      <td>...</td>\n",
       "    </tr>\n",
       "    <tr>\n",
       "      <th>95</th>\n",
       "      <td>0.896528</td>\n",
       "      <td>0.846238</td>\n",
       "    </tr>\n",
       "    <tr>\n",
       "      <th>96</th>\n",
       "      <td>0.884136</td>\n",
       "      <td>0.873191</td>\n",
       "    </tr>\n",
       "    <tr>\n",
       "      <th>97</th>\n",
       "      <td>0.895021</td>\n",
       "      <td>0.887702</td>\n",
       "    </tr>\n",
       "    <tr>\n",
       "      <th>98</th>\n",
       "      <td>0.864196</td>\n",
       "      <td>0.891268</td>\n",
       "    </tr>\n",
       "    <tr>\n",
       "      <th>99</th>\n",
       "      <td>0.895430</td>\n",
       "      <td>0.877847</td>\n",
       "    </tr>\n",
       "  </tbody>\n",
       "</table>\n",
       "<p>100 rows × 2 columns</p>\n",
       "</div>"
      ],
      "text/plain": [
       "    Normal_RF  TOMEK_RF\n",
       "0    0.896077  0.861336\n",
       "1    0.882987  0.867643\n",
       "2    0.890230  0.856281\n",
       "3    0.871379  0.870068\n",
       "4    0.874051  0.860791\n",
       "..        ...       ...\n",
       "95   0.896528  0.846238\n",
       "96   0.884136  0.873191\n",
       "97   0.895021  0.887702\n",
       "98   0.864196  0.891268\n",
       "99   0.895430  0.877847\n",
       "\n",
       "[100 rows x 2 columns]"
      ]
     },
     "execution_count": 19,
     "metadata": {},
     "output_type": "execute_result"
    }
   ],
   "source": [
    "#concat both results into df\n",
    "Normal_df_RF = pd.DataFrame(RF_normal_list, columns=['Normal_RF'])\n",
    "TOMEK_df_RF = pd.DataFrame(RF_tomek_list, columns=['TOMEK_RF'])\n",
    "ztest_df_combo = pd.concat([Normal_df_RF, TOMEK_df_RF], axis=1)\n",
    "ztest_df_combo"
   ]
  },
  {
   "cell_type": "code",
   "execution_count": 20,
   "metadata": {},
   "outputs": [
    {
     "data": {
      "image/png": "[encoded data removed]",
      "text/plain": [
       "<Figure size 432x432 with 3 Axes>"
      ]
     },
     "metadata": {
      "needs_background": "light"
     },
     "output_type": "display_data"
    }
   ],
   "source": [
    "#joint plot of TOMEK and Baseline\n",
    "sns.jointplot(x=ztest_df_combo['Normal_RF'], y=ztest_df_combo['TOMEK_RF'], data=ztest_df_combo, kind='kde');"
   ]
  },
  {
   "cell_type": "code",
   "execution_count": 22,
   "metadata": {},
   "outputs": [
    {
     "name": "stdout",
     "output_type": "stream",
     "text": [
      "1.381608461507394e-32\n",
      "11.887074965029937\n"
     ]
    }
   ],
   "source": [
    "#pip install statsmodels\n",
    "#z test for TOMEK and baseline\n",
    "from scipy import stats\n",
    "from statsmodels.stats import weightstats as stests\n",
    "ztest ,pval = stests.ztest(ztest_df_combo['Normal_RF'],ztest_df_combo['TOMEK_RF'] )\n",
    "print(float(pval))\n",
    "print(ztest)"
   ]
  }
 ],
 "metadata": {
  "kernelspec": {
   "display_name": "Python 3",
   "language": "python",
   "name": "python3"
  },
  "language_info": {
   "codemirror_mode": {
    "name": "ipython",
    "version": 3
   },
   "file_extension": ".py",
   "mimetype": "text/x-python",
   "name": "python",
   "nbconvert_exporter": "python",
   "pygments_lexer": "ipython3",
   "version": "3.8.3"
  }
 },
 "nbformat": 4,
 "nbformat_minor": 4
}
