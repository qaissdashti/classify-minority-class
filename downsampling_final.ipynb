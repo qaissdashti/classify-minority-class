{
 "cells": [
  {
   "cell_type": "markdown",
   "metadata": {},
   "source": [
    "## Down-Sampling -  #700055807"
   ]
  },
  {
   "cell_type": "code",
   "execution_count": 1,
   "metadata": {},
   "outputs": [],
   "source": [
    "#importing all modules\n",
    "import pandas as pd\n",
    "import numpy as np\n",
    "import seaborn as sns\n",
    "import matplotlib.pyplot as plt\n",
    "\n",
    "import numpy as np\n",
    "from sklearn.ensemble import RandomForestClassifier\n",
    "from sklearn.metrics import classification_report, precision_score,fbeta_score, accuracy_score, confusion_matrix, roc_curve, roc_auc_score\n",
    "from sklearn.model_selection import cross_validate, GridSearchCV\n",
    "from sklearn.tree import DecisionTreeClassifier\n",
    "from sklearn.model_selection import train_test_split, KFold\n",
    "from sklearn.ensemble import AdaBoostClassifier\n",
    "from sklearn.preprocessing import LabelEncoder\n",
    "from sklearn.linear_model import LogisticRegression"
   ]
  },
  {
   "cell_type": "code",
   "execution_count": 2,
   "metadata": {},
   "outputs": [],
   "source": [
    "#importing white wine data set (UCI https://archive.ics.uci.edu/ml/datasets/wine+quality)\n",
    "\n",
    "wine_df = pd.read_csv('data/winequality-white.csv', sep=';')\n",
    "\n",
    "data = wine_df.copy()"
   ]
  },
  {
   "cell_type": "code",
   "execution_count": null,
   "metadata": {},
   "outputs": [],
   "source": []
  },
  {
   "cell_type": "code",
   "execution_count": 4,
   "metadata": {},
   "outputs": [],
   "source": [
    "#Creating the catigorical target, less than 8 as 0 and more than 8 as 1\n",
    "\n",
    "data['type'] = np.where(data['quality'] < 8, 'bad', 'good')\n"
   ]
  },
  {
   "cell_type": "code",
   "execution_count": 5,
   "metadata": {},
   "outputs": [],
   "source": [
    "# using the enconder to code 0,1 for bad and good respectvily \n",
    "\n",
    "le = LabelEncoder()\n",
    "data['target'] = le.fit_transform(data['type'])"
   ]
  },
  {
   "cell_type": "markdown",
   "metadata": {},
   "source": [
    "## Splitting and Resampling for train data only"
   ]
  },
  {
   "cell_type": "code",
   "execution_count": 6,
   "metadata": {},
   "outputs": [],
   "source": [
    "#splitting data for y_test, and X_test only\n",
    "\n",
    "X = data.iloc[:,:-3]\n",
    "y = data.iloc[:,-1]\n",
    "\n",
    "X_train, X_test, y_train, y_test = train_test_split(X,y, random_state=42)\n"
   ]
  },
  {
   "cell_type": "code",
   "execution_count": null,
   "metadata": {},
   "outputs": [],
   "source": []
  },
  {
   "cell_type": "code",
   "execution_count": 7,
   "metadata": {},
   "outputs": [
    {
     "data": {
      "text/plain": [
       "3536"
      ]
     },
     "execution_count": 7,
     "metadata": {},
     "output_type": "execute_result"
    }
   ],
   "source": [
    "#creating down sampling for X_train and y_train\n",
    "\n",
    "class_0_len = X_train[y_train == 0].shape[0]\n",
    "class_0_len"
   ]
  },
  {
   "cell_type": "code",
   "execution_count": 8,
   "metadata": {},
   "outputs": [
    {
     "data": {
      "text/plain": [
       "137"
      ]
     },
     "execution_count": 8,
     "metadata": {},
     "output_type": "execute_result"
    }
   ],
   "source": [
    "class_1_len = X_train[y_train == 1].shape[0]\n",
    "class_1_len"
   ]
  },
  {
   "cell_type": "code",
   "execution_count": 9,
   "metadata": {},
   "outputs": [
    {
     "data": {
      "text/html": [
       "<div>\n",
       "<style scoped>\n",
       "    .dataframe tbody tr th:only-of-type {\n",
       "        vertical-align: middle;\n",
       "    }\n",
       "\n",
       "    .dataframe tbody tr th {\n",
       "        vertical-align: top;\n",
       "    }\n",
       "\n",
       "    .dataframe thead th {\n",
       "        text-align: right;\n",
       "    }\n",
       "</style>\n",
       "<table border=\"1\" class=\"dataframe\">\n",
       "  <thead>\n",
       "    <tr style=\"text-align: right;\">\n",
       "      <th></th>\n",
       "      <th>fixed acidity</th>\n",
       "      <th>volatile acidity</th>\n",
       "      <th>citric acid</th>\n",
       "      <th>residual sugar</th>\n",
       "      <th>chlorides</th>\n",
       "      <th>free sulfur dioxide</th>\n",
       "      <th>total sulfur dioxide</th>\n",
       "      <th>density</th>\n",
       "      <th>pH</th>\n",
       "      <th>sulphates</th>\n",
       "      <th>alcohol</th>\n",
       "    </tr>\n",
       "  </thead>\n",
       "  <tbody>\n",
       "    <tr>\n",
       "      <th>174</th>\n",
       "      <td>7.5</td>\n",
       "      <td>0.270</td>\n",
       "      <td>0.31</td>\n",
       "      <td>17.7</td>\n",
       "      <td>0.051</td>\n",
       "      <td>33.0</td>\n",
       "      <td>173.0</td>\n",
       "      <td>0.99900</td>\n",
       "      <td>3.09</td>\n",
       "      <td>0.64</td>\n",
       "      <td>10.2</td>\n",
       "    </tr>\n",
       "    <tr>\n",
       "      <th>2057</th>\n",
       "      <td>6.7</td>\n",
       "      <td>0.310</td>\n",
       "      <td>0.31</td>\n",
       "      <td>4.9</td>\n",
       "      <td>0.031</td>\n",
       "      <td>20.0</td>\n",
       "      <td>151.0</td>\n",
       "      <td>0.99260</td>\n",
       "      <td>3.36</td>\n",
       "      <td>0.82</td>\n",
       "      <td>12.0</td>\n",
       "    </tr>\n",
       "    <tr>\n",
       "      <th>939</th>\n",
       "      <td>7.7</td>\n",
       "      <td>0.240</td>\n",
       "      <td>0.29</td>\n",
       "      <td>15.3</td>\n",
       "      <td>0.044</td>\n",
       "      <td>39.0</td>\n",
       "      <td>194.0</td>\n",
       "      <td>0.99820</td>\n",
       "      <td>3.06</td>\n",
       "      <td>0.47</td>\n",
       "      <td>9.6</td>\n",
       "    </tr>\n",
       "    <tr>\n",
       "      <th>4699</th>\n",
       "      <td>6.8</td>\n",
       "      <td>0.300</td>\n",
       "      <td>0.33</td>\n",
       "      <td>12.8</td>\n",
       "      <td>0.041</td>\n",
       "      <td>60.0</td>\n",
       "      <td>168.0</td>\n",
       "      <td>0.99659</td>\n",
       "      <td>3.10</td>\n",
       "      <td>0.56</td>\n",
       "      <td>9.8</td>\n",
       "    </tr>\n",
       "    <tr>\n",
       "      <th>1951</th>\n",
       "      <td>9.9</td>\n",
       "      <td>1.005</td>\n",
       "      <td>0.46</td>\n",
       "      <td>1.4</td>\n",
       "      <td>0.046</td>\n",
       "      <td>34.0</td>\n",
       "      <td>185.0</td>\n",
       "      <td>0.99660</td>\n",
       "      <td>3.02</td>\n",
       "      <td>0.49</td>\n",
       "      <td>10.2</td>\n",
       "    </tr>\n",
       "  </tbody>\n",
       "</table>\n",
       "</div>"
      ],
      "text/plain": [
       "      fixed acidity  volatile acidity  citric acid  residual sugar  chlorides  \\\n",
       "174             7.5             0.270         0.31            17.7      0.051   \n",
       "2057            6.7             0.310         0.31             4.9      0.031   \n",
       "939             7.7             0.240         0.29            15.3      0.044   \n",
       "4699            6.8             0.300         0.33            12.8      0.041   \n",
       "1951            9.9             1.005         0.46             1.4      0.046   \n",
       "\n",
       "      free sulfur dioxide  total sulfur dioxide  density    pH  sulphates  \\\n",
       "174                  33.0                 173.0  0.99900  3.09       0.64   \n",
       "2057                 20.0                 151.0  0.99260  3.36       0.82   \n",
       "939                  39.0                 194.0  0.99820  3.06       0.47   \n",
       "4699                 60.0                 168.0  0.99659  3.10       0.56   \n",
       "1951                 34.0                 185.0  0.99660  3.02       0.49   \n",
       "\n",
       "      alcohol  \n",
       "174      10.2  \n",
       "2057     12.0  \n",
       "939       9.6  \n",
       "4699      9.8  \n",
       "1951     10.2  "
      ]
     },
     "execution_count": 9,
     "metadata": {},
     "output_type": "execute_result"
    }
   ],
   "source": [
    "#using resample to down sample for the majority class\n",
    "\n",
    "from sklearn.utils import resample\n",
    "\n",
    "class_0_resampled = resample(X_train[y_train == 0], n_samples = class_1_len, replace=False)\n",
    "class_0_resampled.head()"
   ]
  },
  {
   "cell_type": "code",
   "execution_count": 10,
   "metadata": {},
   "outputs": [
    {
     "data": {
      "text/plain": [
       "(137, 11)"
      ]
     },
     "execution_count": 10,
     "metadata": {},
     "output_type": "execute_result"
    }
   ],
   "source": [
    "class_0_resampled.shape"
   ]
  },
  {
   "cell_type": "code",
   "execution_count": 11,
   "metadata": {},
   "outputs": [],
   "source": [
    "class_1_ready = X_train[y_train == 1]"
   ]
  },
  {
   "cell_type": "code",
   "execution_count": 12,
   "metadata": {},
   "outputs": [],
   "source": [
    "class_0_resampled['target'] = y_train[y_train==0]"
   ]
  },
  {
   "cell_type": "code",
   "execution_count": 13,
   "metadata": {},
   "outputs": [
    {
     "name": "stderr",
     "output_type": "stream",
     "text": [
      "<ipython-input-13-20e515527528>:1: SettingWithCopyWarning: \n",
      "A value is trying to be set on a copy of a slice from a DataFrame.\n",
      "Try using .loc[row_indexer,col_indexer] = value instead\n",
      "\n",
      "See the caveats in the documentation: https://pandas.pydata.org/pandas-docs/stable/user_guide/indexing.html#returning-a-view-versus-a-copy\n",
      "  class_1_ready['target'] = y_train[y_train == 1]\n"
     ]
    }
   ],
   "source": [
    "class_1_ready['target'] = y_train[y_train == 1]"
   ]
  },
  {
   "cell_type": "code",
   "execution_count": 14,
   "metadata": {},
   "outputs": [
    {
     "data": {
      "text/plain": [
       "(274, 12)"
      ]
     },
     "execution_count": 14,
     "metadata": {},
     "output_type": "execute_result"
    }
   ],
   "source": [
    "#concat both down samples for splitting\n",
    "down_and_balanced = pd.concat([class_1_ready, class_0_resampled], axis=0)\n",
    "down_and_balanced.shape"
   ]
  },
  {
   "cell_type": "code",
   "execution_count": 15,
   "metadata": {},
   "outputs": [
    {
     "data": {
      "text/plain": [
       "array([[ 8.1 ,  0.17,  0.44, ...,  3.28,  0.75,  8.8 ],\n",
       "       [ 7.3 ,  0.39,  0.37, ...,  3.39,  0.48, 12.7 ],\n",
       "       [ 6.7 ,  0.24,  0.3 , ...,  3.04,  0.59, 11.3 ],\n",
       "       ...,\n",
       "       [ 6.4 ,  0.23,  0.27, ...,  3.03,  0.63, 10.9 ],\n",
       "       [ 6.  ,  0.32,  0.46, ...,  3.24,  0.49,  9.6 ],\n",
       "       [ 7.5 ,  0.18,  0.72, ...,  3.03,  0.46,  8.9 ]])"
      ]
     },
     "execution_count": 15,
     "metadata": {},
     "output_type": "execute_result"
    }
   ],
   "source": [
    "x_train_down_balanced = np.array(down_and_balanced.iloc[:,:-1])\n",
    "x_train_down_balanced"
   ]
  },
  {
   "cell_type": "code",
   "execution_count": 16,
   "metadata": {},
   "outputs": [
    {
     "data": {
      "text/plain": [
       "array([1, 1, 1, 1, 1, 1, 1, 1, 1, 1, 1, 1, 1, 1, 1, 1, 1, 1, 1, 1, 1, 1,\n",
       "       1, 1, 1, 1, 1, 1, 1, 1, 1, 1, 1, 1, 1, 1, 1, 1, 1, 1, 1, 1, 1, 1,\n",
       "       1, 1, 1, 1, 1, 1, 1, 1, 1, 1, 1, 1, 1, 1, 1, 1, 1, 1, 1, 1, 1, 1,\n",
       "       1, 1, 1, 1, 1, 1, 1, 1, 1, 1, 1, 1, 1, 1, 1, 1, 1, 1, 1, 1, 1, 1,\n",
       "       1, 1, 1, 1, 1, 1, 1, 1, 1, 1, 1, 1, 1, 1, 1, 1, 1, 1, 1, 1, 1, 1,\n",
       "       1, 1, 1, 1, 1, 1, 1, 1, 1, 1, 1, 1, 1, 1, 1, 1, 1, 1, 1, 1, 1, 1,\n",
       "       1, 1, 1, 1, 1, 0, 0, 0, 0, 0, 0, 0, 0, 0, 0, 0, 0, 0, 0, 0, 0, 0,\n",
       "       0, 0, 0, 0, 0, 0, 0, 0, 0, 0, 0, 0, 0, 0, 0, 0, 0, 0, 0, 0, 0, 0,\n",
       "       0, 0, 0, 0, 0, 0, 0, 0, 0, 0, 0, 0, 0, 0, 0, 0, 0, 0, 0, 0, 0, 0,\n",
       "       0, 0, 0, 0, 0, 0, 0, 0, 0, 0, 0, 0, 0, 0, 0, 0, 0, 0, 0, 0, 0, 0,\n",
       "       0, 0, 0, 0, 0, 0, 0, 0, 0, 0, 0, 0, 0, 0, 0, 0, 0, 0, 0, 0, 0, 0,\n",
       "       0, 0, 0, 0, 0, 0, 0, 0, 0, 0, 0, 0, 0, 0, 0, 0, 0, 0, 0, 0, 0, 0,\n",
       "       0, 0, 0, 0, 0, 0, 0, 0, 0, 0])"
      ]
     },
     "execution_count": 16,
     "metadata": {},
     "output_type": "execute_result"
    }
   ],
   "source": [
    "y_train_down_balanced = np.array(down_and_balanced.iloc[:,-1])\n",
    "y_train_down_balanced"
   ]
  },
  {
   "cell_type": "code",
   "execution_count": 17,
   "metadata": {},
   "outputs": [
    {
     "name": "stderr",
     "output_type": "stream",
     "text": [
      "/Users/mac/opt/anaconda3/lib/python3.8/site-packages/sklearn/linear_model/_logistic.py:762: ConvergenceWarning: lbfgs failed to converge (status=1):\n",
      "STOP: TOTAL NO. of ITERATIONS REACHED LIMIT.\n",
      "\n",
      "Increase the number of iterations (max_iter) or scale the data as shown in:\n",
      "    https://scikit-learn.org/stable/modules/preprocessing.html\n",
      "Please also refer to the documentation for alternative solver options:\n",
      "    https://scikit-learn.org/stable/modules/linear_model.html#logistic-regression\n",
      "  n_iter_i = _check_optimize_result(\n"
     ]
    },
    {
     "data": {
      "text/html": [
       "<div>\n",
       "<style scoped>\n",
       "    .dataframe tbody tr th:only-of-type {\n",
       "        vertical-align: middle;\n",
       "    }\n",
       "\n",
       "    .dataframe tbody tr th {\n",
       "        vertical-align: top;\n",
       "    }\n",
       "\n",
       "    .dataframe thead th {\n",
       "        text-align: right;\n",
       "    }\n",
       "</style>\n",
       "<table border=\"1\" class=\"dataframe\">\n",
       "  <thead>\n",
       "    <tr style=\"text-align: right;\">\n",
       "      <th></th>\n",
       "      <th>Model</th>\n",
       "      <th>Roc Auc Score</th>\n",
       "      <th>Accuracy Score</th>\n",
       "      <th>Precision Score</th>\n",
       "      <th>F_beta Score</th>\n",
       "    </tr>\n",
       "  </thead>\n",
       "  <tbody>\n",
       "    <tr>\n",
       "      <th>DecisionTreeClassifier</th>\n",
       "      <td>DecisionTreeClassifier()</td>\n",
       "      <td>0.68</td>\n",
       "      <td>0.67</td>\n",
       "      <td>0.07</td>\n",
       "      <td>0.09</td>\n",
       "    </tr>\n",
       "    <tr>\n",
       "      <th>LogisticRegression</th>\n",
       "      <td>LogisticRegression()</td>\n",
       "      <td>0.79</td>\n",
       "      <td>0.66</td>\n",
       "      <td>0.08</td>\n",
       "      <td>0.09</td>\n",
       "    </tr>\n",
       "    <tr>\n",
       "      <th>RandomForestClassifier</th>\n",
       "      <td>(DecisionTreeClassifier(max_features='auto', r...</td>\n",
       "      <td>0.89</td>\n",
       "      <td>0.73</td>\n",
       "      <td>0.10</td>\n",
       "      <td>0.13</td>\n",
       "    </tr>\n",
       "  </tbody>\n",
       "</table>\n",
       "</div>"
      ],
      "text/plain": [
       "                                                                    Model  \\\n",
       "DecisionTreeClassifier                           DecisionTreeClassifier()   \n",
       "LogisticRegression                                   LogisticRegression()   \n",
       "RandomForestClassifier  (DecisionTreeClassifier(max_features='auto', r...   \n",
       "\n",
       "                        Roc Auc Score  Accuracy Score  Precision Score  \\\n",
       "DecisionTreeClassifier           0.68            0.67             0.07   \n",
       "LogisticRegression               0.79            0.66             0.08   \n",
       "RandomForestClassifier           0.89            0.73             0.10   \n",
       "\n",
       "                        F_beta Score  \n",
       "DecisionTreeClassifier          0.09  \n",
       "LogisticRegression              0.09  \n",
       "RandomForestClassifier          0.13  "
      ]
     },
     "execution_count": 17,
     "metadata": {},
     "output_type": "execute_result"
    }
   ],
   "source": [
    "# running the classifiers for the down sampling\n",
    "\n",
    "model_scores = {}\n",
    "model_roc_scores = {}\n",
    "model_fbeta_score = {}\n",
    "precision_scores = {}\n",
    "\n",
    "DT_re_down = DecisionTreeClassifier()\n",
    "log_re_down = LogisticRegression()\n",
    "RF_down = RandomForestClassifier()\n",
    "\n",
    "for model in [DT_re_down, log_re_down, RF_down]:\n",
    "    model.fit(x_train_down_balanced, y_train_down_balanced)\n",
    "    y_pred = model.predict(X_test)\n",
    "    score = accuracy_score(y_test, y_pred)\n",
    "    model_scores[model] = score\n",
    "    \n",
    "    y_pred_proba = model.predict_proba(X_test)\n",
    "    roc = roc_auc_score(y_test, y_pred_proba[:,1])\n",
    "    model_roc_scores[model] = roc\n",
    "    \n",
    "    y_pred_proba = model.predict_proba(X_test)\n",
    "    fb_score = fbeta_score(y_test, y_pred, beta=0.5)\n",
    "    model_fbeta_score[model] = fb_score\n",
    "    \n",
    "    y_pred = model.predict(X_test)\n",
    "    p_score = precision_score(y_test, y_pred)\n",
    "    precision_scores[model] = p_score\n",
    "    \n",
    "    \n",
    "model_scores\n",
    "model_roc_scores\n",
    "model_fbeta_score\n",
    "precision_scores\n",
    "\n",
    "#creating the df for comparing the classifiers\n",
    "\n",
    "roc_df = pd.DataFrame(list(model_roc_scores.items()),columns = ['Model','Roc Auc Score']) \n",
    "scores_df = pd.DataFrame(list(model_scores.items()),columns = ['Model1','Accuracy Score'])\n",
    "precision_scores_df = pd.DataFrame(list(precision_scores.items()), columns=['Model3','Precision Score'])\n",
    "fbeta_scores_df = pd.DataFrame(list(model_fbeta_score.items()), columns=['Model2','F_beta Score'])\n",
    "\n",
    "total_scores_df = pd.concat([roc_df,scores_df ,precision_scores_df, fbeta_scores_df], axis=1)\n",
    "total_scores_df.drop(['Model1', 'Model2', 'Model3'], axis=1, inplace=True)\n",
    "total_scores_df.index.name = 'TOMEK Sampling'\n",
    "total_scores_df = total_scores_df.round(2)\n",
    "total_scores_df.index = ['DecisionTreeClassifier', 'LogisticRegression', 'RandomForestClassifier']\n",
    "total_scores_df"
   ]
  },
  {
   "cell_type": "code",
   "execution_count": 18,
   "metadata": {},
   "outputs": [
    {
     "data": {
      "image/png": "[encoded data removed]",
      "text/plain": [
       "<Figure size 432x288 with 1 Axes>"
      ]
     },
     "metadata": {
      "needs_background": "light"
     },
     "output_type": "display_data"
    }
   ],
   "source": [
    "#plotting the comparison - down sampling\n",
    "\n",
    "total_scores_df.plot(kind='bar')\n",
    "plt.title('Down Sampling Metrics')\n",
    "plt.ylabel('Percentage')\n",
    "plt.xlabel('Classifiers')\n",
    "\n",
    "plt.show()"
   ]
  },
  {
   "cell_type": "code",
   "execution_count": 19,
   "metadata": {},
   "outputs": [
    {
     "data": {
      "text/html": [
       "<div>\n",
       "<style scoped>\n",
       "    .dataframe tbody tr th:only-of-type {\n",
       "        vertical-align: middle;\n",
       "    }\n",
       "\n",
       "    .dataframe tbody tr th {\n",
       "        vertical-align: top;\n",
       "    }\n",
       "\n",
       "    .dataframe thead th {\n",
       "        text-align: right;\n",
       "    }\n",
       "</style>\n",
       "<table border=\"1\" class=\"dataframe\">\n",
       "  <thead>\n",
       "    <tr style=\"text-align: right;\">\n",
       "      <th></th>\n",
       "      <th>Roc Auc Score</th>\n",
       "      <th>Accuracy Score</th>\n",
       "      <th>Precision Score</th>\n",
       "      <th>F_beta Score</th>\n",
       "    </tr>\n",
       "  </thead>\n",
       "  <tbody>\n",
       "    <tr>\n",
       "      <th>DecisionTreeClassifier</th>\n",
       "      <td>0.68</td>\n",
       "      <td>0.67</td>\n",
       "      <td>0.07</td>\n",
       "      <td>0.09</td>\n",
       "    </tr>\n",
       "    <tr>\n",
       "      <th>LogisticRegression</th>\n",
       "      <td>0.79</td>\n",
       "      <td>0.66</td>\n",
       "      <td>0.08</td>\n",
       "      <td>0.09</td>\n",
       "    </tr>\n",
       "    <tr>\n",
       "      <th>RandomForestClassifier</th>\n",
       "      <td>0.89</td>\n",
       "      <td>0.73</td>\n",
       "      <td>0.10</td>\n",
       "      <td>0.13</td>\n",
       "    </tr>\n",
       "  </tbody>\n",
       "</table>\n",
       "</div>"
      ],
      "text/plain": [
       "                        Roc Auc Score  Accuracy Score  Precision Score  \\\n",
       "DecisionTreeClassifier           0.68            0.67             0.07   \n",
       "LogisticRegression               0.79            0.66             0.08   \n",
       "RandomForestClassifier           0.89            0.73             0.10   \n",
       "\n",
       "                        F_beta Score  \n",
       "DecisionTreeClassifier          0.09  \n",
       "LogisticRegression              0.09  \n",
       "RandomForestClassifier          0.13  "
      ]
     },
     "execution_count": 19,
     "metadata": {},
     "output_type": "execute_result"
    }
   ],
   "source": [
    "#final table for comparison\n",
    "total_scores_df.drop('Model', axis=1)"
   ]
  },
  {
   "cell_type": "markdown",
   "metadata": {},
   "source": [
    "## Running the classifiers for DT, RF, Log - Down Sampling"
   ]
  },
  {
   "cell_type": "code",
   "execution_count": 20,
   "metadata": {},
   "outputs": [],
   "source": [
    "DT_re_down = DecisionTreeClassifier()\n",
    "DT_re_down.fit(x_train_down_balanced, y_train_down_balanced)\n",
    "y_pred_DT_down = DT_re_down.predict(X_test)"
   ]
  },
  {
   "cell_type": "code",
   "execution_count": 21,
   "metadata": {},
   "outputs": [
    {
     "data": {
      "text/plain": [
       "0.6653061224489796"
      ]
     },
     "execution_count": 21,
     "metadata": {},
     "output_type": "execute_result"
    }
   ],
   "source": [
    "accuracy_score(y_test, y_pred_DT_down)"
   ]
  },
  {
   "cell_type": "code",
   "execution_count": 22,
   "metadata": {},
   "outputs": [
    {
     "name": "stdout",
     "output_type": "stream",
     "text": [
      "              precision    recall  f1-score   support\n",
      "\n",
      "           0       0.98      0.66      0.79      1182\n",
      "           1       0.07      0.70      0.13        43\n",
      "\n",
      "    accuracy                           0.67      1225\n",
      "   macro avg       0.53      0.68      0.46      1225\n",
      "weighted avg       0.95      0.67      0.77      1225\n",
      "\n"
     ]
    }
   ],
   "source": [
    "print(classification_report(y_test,y_pred_DT_down))\n"
   ]
  },
  {
   "cell_type": "code",
   "execution_count": 23,
   "metadata": {},
   "outputs": [
    {
     "name": "stdout",
     "output_type": "stream",
     "text": [
      "No Skill: ROC AUC=0.500\n",
      "DT Down Sampling: ROC AUC=0.681\n"
     ]
    },
    {
     "data": {
      "image/png": "[encoded data removed]",
      "text/plain": [
       "<Figure size 432x288 with 1 Axes>"
      ]
     },
     "metadata": {
      "needs_background": "light"
     },
     "output_type": "display_data"
    }
   ],
   "source": [
    "#AUC for DT\n",
    "\n",
    "ns_probs = [0 for _ in range(len(y_test))]\n",
    "y_pred_DT_re_proba = DT_re_down.predict_proba(X_test)\n",
    "DTre_probs = y_pred_DT_re_proba[:,1]\n",
    "ns_auc = roc_auc_score(y_test, ns_probs)\n",
    "DTre_auc = roc_auc_score(y_test, DTre_probs)\n",
    "print('No Skill: ROC AUC=%.3f' % (ns_auc))\n",
    "print('DT Down Sampling: ROC AUC=%.3f' % (DTre_auc))\n",
    "\n",
    "# calculate roc curves\n",
    "ns_fpr, ns_tpr, _ = roc_curve(y_test, ns_probs)\n",
    "DTre_fpr, DTre_tpr, _ = roc_curve(y_test, DTre_probs)\n",
    "\n",
    "# plot the roc curve for the model\n",
    "plt.plot(ns_fpr, ns_tpr, linestyle='--', label='No Skill')\n",
    "plt.plot(DTre_fpr, DTre_tpr, marker='.', label='DT Down Sampling')\n",
    "# axis labels\n",
    "plt.xlabel('False Positive Rate')\n",
    "plt.ylabel('True Positive Rate')\n",
    "# show the legend\n",
    "plt.legend()\n",
    "# show the plot\n",
    "plt.show()"
   ]
  },
  {
   "cell_type": "code",
   "execution_count": null,
   "metadata": {},
   "outputs": [],
   "source": []
  },
  {
   "cell_type": "code",
   "execution_count": 143,
   "metadata": {},
   "outputs": [
    {
     "data": {
      "text/plain": [
       "0.7436734693877551"
      ]
     },
     "execution_count": 143,
     "metadata": {},
     "output_type": "execute_result"
    }
   ],
   "source": [
    "RF_down = RandomForestClassifier()\n",
    "RF_down.fit(x_train_down_balanced, y_train_down_balanced)\n",
    "y_pred_RF_down = RF_down.predict(X_test)\n",
    "accuracy_score(y_test, y_pred_RF_down)"
   ]
  },
  {
   "cell_type": "code",
   "execution_count": 154,
   "metadata": {},
   "outputs": [
    {
     "name": "stdout",
     "output_type": "stream",
     "text": [
      "              precision    recall  f1-score   support\n",
      "\n",
      "           0       0.99      0.74      0.85      1182\n",
      "           1       0.10      0.84      0.19        43\n",
      "\n",
      "    accuracy                           0.74      1225\n",
      "   macro avg       0.55      0.79      0.52      1225\n",
      "weighted avg       0.96      0.74      0.82      1225\n",
      "\n",
      "0.12720848056537104\n"
     ]
    }
   ],
   "source": [
    "print(classification_report(y_test,y_pred_RF_down))\n",
    "print(fbeta_score(y_test, y_pred_RF_down, beta=0.5))"
   ]
  },
  {
   "cell_type": "code",
   "execution_count": 145,
   "metadata": {},
   "outputs": [
    {
     "name": "stdout",
     "output_type": "stream",
     "text": [
      "No Skill: ROC AUC=0.500\n",
      "RF Down Sampling: ROC AUC=0.892\n"
     ]
    },
    {
     "data": {
      "image/png": "[encoded data removed]",
      "text/plain": [
       "<Figure size 432x288 with 1 Axes>"
      ]
     },
     "metadata": {
      "needs_background": "light"
     },
     "output_type": "display_data"
    }
   ],
   "source": [
    "ns_probs = [0 for _ in range(len(y_test))]\n",
    "y_pred_RF_down_proba = RF_down.predict_proba(X_test)\n",
    "RFd_probs = y_pred_RF_down_proba[:,1]\n",
    "ns_auc = roc_auc_score(y_test, ns_probs)\n",
    "RFd_auc = roc_auc_score(y_test, RFd_probs)\n",
    "print('No Skill: ROC AUC=%.3f' % (ns_auc))\n",
    "print('RF Down Sampling: ROC AUC=%.3f' % (RFd_auc))\n",
    "\n",
    "# calculate roc curves\n",
    "ns_fpr, ns_tpr, _ = roc_curve(y_test, ns_probs)\n",
    "RDd_fpr, RFd_tpr, _ = roc_curve(y_test, RFd_probs)\n",
    "\n",
    "# plot the roc curve for the model\n",
    "plt.plot(ns_fpr, ns_tpr, linestyle='--', label='No Skill')\n",
    "plt.plot(RDd_fpr, RFd_tpr, marker='.', label='RF Down Sampling')\n",
    "# axis labels\n",
    "plt.xlabel('False Positive Rate')\n",
    "plt.ylabel('True Positive Rate')\n",
    "# show the legend\n",
    "plt.legend()\n",
    "# show the plot\n",
    "plt.show()"
   ]
  },
  {
   "cell_type": "code",
   "execution_count": null,
   "metadata": {},
   "outputs": [],
   "source": []
  },
  {
   "cell_type": "code",
   "execution_count": 136,
   "metadata": {},
   "outputs": [
    {
     "name": "stderr",
     "output_type": "stream",
     "text": [
      "/Users/mac/opt/anaconda3/lib/python3.8/site-packages/sklearn/linear_model/_logistic.py:762: ConvergenceWarning: lbfgs failed to converge (status=1):\n",
      "STOP: TOTAL NO. of ITERATIONS REACHED LIMIT.\n",
      "\n",
      "Increase the number of iterations (max_iter) or scale the data as shown in:\n",
      "    https://scikit-learn.org/stable/modules/preprocessing.html\n",
      "Please also refer to the documentation for alternative solver options:\n",
      "    https://scikit-learn.org/stable/modules/linear_model.html#logistic-regression\n",
      "  n_iter_i = _check_optimize_result(\n"
     ]
    },
    {
     "data": {
      "text/plain": [
       "0.6816326530612244"
      ]
     },
     "execution_count": 136,
     "metadata": {},
     "output_type": "execute_result"
    }
   ],
   "source": [
    "log_re_down = LogisticRegression()\n",
    "log_re_down.fit(x_train_down_balanced, y_train_down_balanced)\n",
    "y_pred_log_down = log_re_down.predict(X_test)\n",
    "accuracy_score(y_test, y_pred_log_down)"
   ]
  },
  {
   "cell_type": "code",
   "execution_count": 137,
   "metadata": {},
   "outputs": [
    {
     "name": "stdout",
     "output_type": "stream",
     "text": [
      "              precision    recall  f1-score   support\n",
      "\n",
      "           0       0.99      0.68      0.80      1182\n",
      "           1       0.08      0.77      0.14        43\n",
      "\n",
      "    accuracy                           0.68      1225\n",
      "   macro avg       0.53      0.72      0.47      1225\n",
      "weighted avg       0.96      0.68      0.78      1225\n",
      "\n"
     ]
    }
   ],
   "source": [
    "print(classification_report(y_test,y_pred_log_down))"
   ]
  },
  {
   "cell_type": "code",
   "execution_count": 146,
   "metadata": {},
   "outputs": [
    {
     "name": "stdout",
     "output_type": "stream",
     "text": [
      "No Skill: ROC AUC=0.500\n",
      "Logistics Down Sampling: ROC AUC=0.813\n"
     ]
    },
    {
     "data": {
      "image/png": "[encoded data removed]",
      "text/plain": [
       "<Figure size 432x288 with 1 Axes>"
      ]
     },
     "metadata": {
      "needs_background": "light"
     },
     "output_type": "display_data"
    }
   ],
   "source": [
    "#AUC for logistic\n",
    "\n",
    "ns_probs = [0 for _ in range(len(y_test))]\n",
    "y_pred_log_down_proba = log_re_down.predict_proba(X_test)\n",
    "log_d_probs = y_pred_log_down_proba[:,1]\n",
    "ns_auc = roc_auc_score(y_test, ns_probs)\n",
    "log_d_auc = roc_auc_score(y_test, log_d_probs)\n",
    "print('No Skill: ROC AUC=%.3f' % (ns_auc))\n",
    "print('Logistics Down Sampling: ROC AUC=%.3f' % (log_d_auc))\n",
    "\n",
    "# calculate roc curves\n",
    "ns_fpr, ns_tpr, _ = roc_curve(y_test, ns_probs)\n",
    "logd_fpr, logd_tpr, _ = roc_curve(y_test, log_d_probs)\n",
    "\n",
    "# plot the roc curve for the model\n",
    "plt.plot(ns_fpr, ns_tpr, linestyle='--', label='No Skill')\n",
    "plt.plot(logd_fpr, logd_tpr, marker='.', label='Logistics Down Sampling')\n",
    "# axis labels\n",
    "plt.xlabel('False Positive Rate')\n",
    "plt.ylabel('True Positive Rate')\n",
    "# show the legend\n",
    "plt.legend()\n",
    "# show the plot\n",
    "plt.show()"
   ]
  },
  {
   "cell_type": "code",
   "execution_count": null,
   "metadata": {},
   "outputs": [],
   "source": []
  },
  {
   "cell_type": "code",
   "execution_count": null,
   "metadata": {},
   "outputs": [],
   "source": []
  },
  {
   "cell_type": "code",
   "execution_count": null,
   "metadata": {},
   "outputs": [],
   "source": []
  },
  {
   "cell_type": "code",
   "execution_count": 152,
   "metadata": {},
   "outputs": [
    {
     "data": {
      "image/png": "[encoded data removed]",
      "text/plain": [
       "<Figure size 432x288 with 1 Axes>"
      ]
     },
     "metadata": {
      "needs_background": "light"
     },
     "output_type": "display_data"
    }
   ],
   "source": [
    "#AUC for all\n",
    "\n",
    "ns_probs = [0 for _ in range(len(y_test))]\n",
    "y_pred_log_down_proba = log_re_down.predict_proba(X_test)\n",
    "log_d_probs = y_pred_log_down_proba[:,1]\n",
    "ns_auc = roc_auc_score(y_test, ns_probs)\n",
    "log_d_auc = roc_auc_score(y_test, log_d_probs)\n",
    "#print('No Skill: ROC AUC=%.3f' % (ns_auc))\n",
    "#print('Logistics Down Sampling: ROC AUC=%.3f' % (log_d_auc))\n",
    "\n",
    "# calculate roc curves\n",
    "ns_fpr, ns_tpr, _ = roc_curve(y_test, ns_probs)\n",
    "logd_fpr, logd_tpr, _ = roc_curve(y_test, log_d_probs)\n",
    "\n",
    "# plot the roc curve for the model\n",
    "plt.plot(ns_fpr, ns_tpr, linestyle='--', label='No Skill')\n",
    "plt.plot(logd_fpr, logd_tpr, marker='.', label='Logistics Down Sampling: ROC AUC=%.3f' % (log_d_auc))\n",
    "plt.plot(RDd_fpr, RFd_tpr, marker='.', label='RF Down Sampling: ROC AUC=%.3f' % (RFd_auc))\n",
    "plt.plot(DTre_fpr, DTre_tpr, marker='.', label='DT Down Sampling: ROC AUC=%.3f' % (DTre_auc))\n",
    "\n",
    "# axis labels\n",
    "plt.title('Comparison of Down sampling')\n",
    "\n",
    "plt.xlabel('False Positive Rate')\n",
    "plt.ylabel('True Positive Rate')\n",
    "# show the legend\n",
    "plt.legend()\n",
    "# show the plot\n",
    "plt.show()"
   ]
  }
 ],
 "metadata": {
  "kernelspec": {
   "display_name": "Python 3",
   "language": "python",
   "name": "python3"
  },
  "language_info": {
   "codemirror_mode": {
    "name": "ipython",
    "version": 3
   },
   "file_extension": ".py",
   "mimetype": "text/x-python",
   "name": "python",
   "nbconvert_exporter": "python",
   "pygments_lexer": "ipython3",
   "version": "3.8.3"
  }
 },
 "nbformat": 4,
 "nbformat_minor": 4
}
